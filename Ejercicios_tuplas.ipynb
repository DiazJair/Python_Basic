{
 "metadata": {
  "language_info": {
   "codemirror_mode": {
    "name": "ipython",
    "version": 3
   },
   "file_extension": ".py",
   "mimetype": "text/x-python",
   "name": "python",
   "nbconvert_exporter": "python",
   "pygments_lexer": "ipython3",
   "version": "3.8.5"
  },
  "orig_nbformat": 2,
  "kernelspec": {
   "name": "python385jvsc74a57bd03b5a66c4cd92ecee07f1485d34fad62cbd55b4ae9150b9526340b04fbd6ba8a7",
   "display_name": "Python 3.8.5 64-bit ('base': conda)"
  }
 },
 "nbformat": 4,
 "nbformat_minor": 2,
 "cells": [
  {
   "cell_type": "code",
   "execution_count": 2,
   "metadata": {},
   "outputs": [
    {
     "output_type": "stream",
     "name": "stdout",
     "text": [
      "[('Vocales', 10), ('Consonantes', 10), ('Espacios', 5)]\n"
     ]
    }
   ],
   "source": [
    "s = input(\"Introduce una frase: \")\n",
    "s = s.lower()\n",
    "vowels = [\"a\",\"e\",\"i\",\"o\",\"u\"]\n",
    "\n",
    "vowels_count = 0\n",
    "consonant_count = 0\n",
    "blanks_count = 0\n",
    "\n",
    "\n",
    "\n",
    "for c in s:\n",
    "    if c in vowels:\n",
    "        vowels_count += 1\n",
    "    elif c == \" \":\n",
    "        blanks_count += 1\n",
    "    else:\n",
    "        consonant_count += 1\n",
    "\n",
    "a = (\"Vocales\", vowels_count)\n",
    "b = (\"Consonantes\", consonant_count)\n",
    "c = (\"Espacios\", blanks_count)\n",
    "\n",
    "info = [a,b,c]\n",
    "print(info)"
   ]
  },
  {
   "cell_type": "code",
   "execution_count": 35,
   "metadata": {},
   "outputs": [
    {
     "output_type": "stream",
     "name": "stdout",
     "text": [
      "((1, 'Impar'), (0, 'Par'))\n"
     ]
    }
   ],
   "source": [
    "## Ejercicio 1\n",
    "e1 = int(input(\"¿Cuantos numeros vas a introducir? \"))\n",
    "e1_numbers = []\n",
    "e1_data = []\n",
    "e1_count = 0\n",
    "\n",
    "e1_num = int(input(\"Introduce un numero: \"))\n",
    "\n",
    "while e1_count < e1:\n",
    "    e1_numbers.append(e1_num)\n",
    "    if e1_num % 2 > 0:\n",
    "        e1_data.append(\"Impar\")\n",
    "    elif e1_num % 2 == 0:\n",
    "        e1_data.append(\"Par\")\n",
    "    e1_count += 1\n",
    "    e1_num = int(input((\"Introduce un numero: \")))\n",
    "\n",
    "    \n",
    "\n",
    "e_final = tuple(zip(e1_numbers, e1_data))\n",
    "print(e_final)"
   ]
  },
  {
   "cell_type": "code",
   "execution_count": 41,
   "metadata": {},
   "outputs": [
    {
     "output_type": "stream",
     "name": "stdout",
     "text": [
      "El año no es valido. Intenta con otro\n[]\n"
     ]
    }
   ],
   "source": [
    "## Ejercicio 2\n",
    "año = int(input(\"Introduce un año: \"))\n",
    "zodiac = []\n",
    "\n",
    "rata = [1900, 1912, 1924, 1936, 1948, 1960, 1972, 1984, 1996, 2008, 2020]\n",
    "buey = [1901, 1913, 1925, 1937, 1949, 1961, 1973, 1985, 1997, 2009, 2021]\n",
    "tigre = [1902, 1914, 1926, 1938, 1950, 1962, 1974, 1986, 1998, 2010, 2022]\n",
    "conejo = [1903, 1915, 1927, 1939, 1951, 1963, 1975, 1987, 1999, 2023]\n",
    "Dragon = [1904, 1916, 1928, 1940, 1952, 1964, 1976, 1988, 2000, 2012, 2024]\n",
    "sERPIENTE = [1905, 1917, 1929, 1941, 1953, 1965, 1977, 1989, 2001, 2013, 2025]\n",
    "Caballo = [1906, 1918, 1930, 1942, 1954, 1966, 1978, 1990, 2002, 2014, 2026]\n",
    "cABRA = [1907, 1919, 1931, 1943, 1955, 1967, 1979, 1991, 2003, 2015, 2027]\n",
    "mONO = [1908, 1920, 1932, 1944, 1956, 1968, 1980, 1992, 2004, 2016, 2028]\n",
    "gALLO = [1909, 1921, 1933, 1945, 1957, 1969, 1981, 1993, 2005, 2017, 2029]\n",
    "pERRO = [1910, 1922, 1934, 1946, 1958, 1970, 1982, 1994, 2006, 2018, 2030]\n",
    "cHANCHO = [1911, 1923, 1935, 1947, 1971, 1983, 1995, 2007, 2019, 2031]\n",
    "\n",
    "if año in rata:\n",
    "    zodiac.append([año,\"Rata\"])\n",
    "elif año in buey:\n",
    "    zodiac.append([año, \"Buey\"])\n",
    "elif año in tigre:\n",
    "    zodiac.append([año, \"Tigre\"])\n",
    "elif año in conejo:\n",
    "    zodiac.append([año, \"Conejo\"])\n",
    "elif año in Dragon:\n",
    "    zodiac.append([año, \"Dragon\"])\n",
    "elif año in sERPIENTE:\n",
    "    zodiac.append([año, \"Serpiente\"])\n",
    "elif año in Caballo:\n",
    "    zodiac.append([año, \"Caballo\"])\n",
    "elif año in cABRA:\n",
    "    zodiac.append([año, \"Cabra\"])\n",
    "elif año in mONO:\n",
    "    zodiac.append([año, \"Mono\"])\n",
    "elif año in gALLO:\n",
    "    zodiac.append([año, \"Gallo\"])\n",
    "elif año in pERRO:\n",
    "    zodiac.append([año, \"Perro\"])\n",
    "elif año in cHANCHO:\n",
    "    zodiac.append([año, \"Chancho\"])\n",
    "else:\n",
    "    print(\"El año no es valido. Intenta con otro\")\n",
    "\n",
    "print(zodiac)\n"
   ]
  },
  {
   "cell_type": "code",
   "execution_count": 44,
   "metadata": {},
   "outputs": [
    {
     "output_type": "stream",
     "name": "stdout",
     "text": [
      "(('diana', 5, 'd', 0), ('novia', 5, 'n', 1), ('se', 2, 's', 2), ('quedo', 5, 'q', 3), ('pensando', 8, 'p', 4))\n"
     ]
    }
   ],
   "source": [
    "## Ejercicio 3\n",
    "frase_ej3 = input(\"Introduce una frase: \")\n",
    "words = frase_ej3.split(\" \")\n",
    "leng = []\n",
    "first = []\n",
    "position = []\n",
    "pos = 0\n",
    "\n",
    "for w in words:\n",
    "    leng.append(len(w))\n",
    "    first.append(w[0])\n",
    "    position.append(pos)\n",
    "    pos += 1\n",
    "\n",
    "final_3 = tuple(zip(words, leng, first, position))\n",
    "print(final_3)"
   ]
  },
  {
   "cell_type": "code",
   "execution_count": 1,
   "metadata": {},
   "outputs": [
    {
     "output_type": "stream",
     "name": "stdout",
     "text": [
      "('jair', 'bonito')\n"
     ]
    }
   ],
   "source": [
    "# Ejercicio 4.\n",
    "\n",
    "word_4 = input(\"Introduce una palabra: \")\n",
    "lista_palabras = []\n",
    "\n",
    "while word_4 != \"\":\n",
    "    lista_palabras.append(word_4)\n",
    "    word_4 = input(\"Introduce una palabra: \")\n",
    "\n",
    "(first, *_, last) = lista_palabras\n",
    "tup4 = (first,last)\n",
    "print(tup4)\n"
   ]
  },
  {
   "cell_type": "code",
   "execution_count": 2,
   "metadata": {},
   "outputs": [
    {
     "output_type": "stream",
     "name": "stdout",
     "text": [
      "{'agua': 4, 'sol': 3, 'tierra': 6, 'bacterias': 9}\n"
     ]
    }
   ],
   "source": [
    "## Ejercicio 5\n",
    "words = [\"agua\", \"sol\", \"tierra\", \"bacterias\"]\n",
    "long_w = []\n",
    "\n",
    "for w in words:\n",
    "    long_w.append(len(w))\n",
    "\n",
    "final_5 = dict(zip(words, long_w))\n",
    "print(final_5)\n",
    "\n"
   ]
  },
  {
   "cell_type": "code",
   "execution_count": 6,
   "metadata": {},
   "outputs": [
    {
     "output_type": "stream",
     "name": "stdout",
     "text": [
      "Las palabras introducidas son :('hola', 'adios') y en total hay 9 caracteres\n"
     ]
    }
   ],
   "source": [
    "## Ejercicio 6\n",
    "\n",
    "w6 = input(\"Introduce una palabra: \")\n",
    "list_w6 =[]\n",
    "count_caracters = 0\n",
    "\n",
    "while w6 != \"\":\n",
    "    list_w6.append(w6)\n",
    "    count_caracters += len(w6)\n",
    "    w6 = input(\"Introduce una palabra: \")\n",
    "\n",
    "list_w6 = tuple(list_w6)\n",
    "print(\"Las palabras introducidas son :{} y en total hay {} caracteres\".format(list_w6,count_caracters))"
   ]
  },
  {
   "cell_type": "code",
   "execution_count": 13,
   "metadata": {},
   "outputs": [
    {
     "output_type": "stream",
     "name": "stdout",
     "text": [
      "\n === Tabla del 1 ===\n1 x 1 = 1\n1 x 2 = 2\n1 x 3 = 3\n1 x 4 = 4\n1 x 5 = 5\n1 x 6 = 6\n1 x 7 = 7\n1 x 8 = 8\n1 x 9 = 9\n1 x 10 = 10\n\n === Tabla del 2 ===\n2 x 1 = 2\n2 x 2 = 4\n2 x 3 = 6\n2 x 4 = 8\n2 x 5 = 10\n2 x 6 = 12\n2 x 7 = 14\n2 x 8 = 16\n2 x 9 = 18\n2 x 10 = 20\n\n === Tabla del 3 ===\n3 x 1 = 3\n3 x 2 = 6\n3 x 3 = 9\n3 x 4 = 12\n3 x 5 = 15\n3 x 6 = 18\n3 x 7 = 21\n3 x 8 = 24\n3 x 9 = 27\n3 x 10 = 30\n\n === Tabla del 4 ===\n4 x 1 = 4\n4 x 2 = 8\n4 x 3 = 12\n4 x 4 = 16\n4 x 5 = 20\n4 x 6 = 24\n4 x 7 = 28\n4 x 8 = 32\n4 x 9 = 36\n4 x 10 = 40\n\n === Tabla del 5 ===\n5 x 1 = 5\n5 x 2 = 10\n5 x 3 = 15\n5 x 4 = 20\n5 x 5 = 25\n5 x 6 = 30\n5 x 7 = 35\n5 x 8 = 40\n5 x 9 = 45\n5 x 10 = 50\n\n === Tabla del 6 ===\n6 x 1 = 6\n6 x 2 = 12\n6 x 3 = 18\n6 x 4 = 24\n6 x 5 = 30\n6 x 6 = 36\n6 x 7 = 42\n6 x 8 = 48\n6 x 9 = 54\n6 x 10 = 60\n\n === Tabla del 7 ===\n7 x 1 = 7\n7 x 2 = 14\n7 x 3 = 21\n7 x 4 = 28\n7 x 5 = 35\n7 x 6 = 42\n7 x 7 = 49\n7 x 8 = 56\n7 x 9 = 63\n7 x 10 = 70\n\n === Tabla del 8 ===\n8 x 1 = 8\n8 x 2 = 16\n8 x 3 = 24\n8 x 4 = 32\n8 x 5 = 40\n8 x 6 = 48\n8 x 7 = 56\n8 x 8 = 64\n8 x 9 = 72\n8 x 10 = 80\n\n === Tabla del 9 ===\n9 x 1 = 9\n9 x 2 = 18\n9 x 3 = 27\n9 x 4 = 36\n9 x 5 = 45\n9 x 6 = 54\n9 x 7 = 63\n9 x 8 = 72\n9 x 9 = 81\n9 x 10 = 90\n\n === Tabla del 10 ===\n10 x 1 = 10\n10 x 2 = 20\n10 x 3 = 30\n10 x 4 = 40\n10 x 5 = 50\n10 x 6 = 60\n10 x 7 = 70\n10 x 8 = 80\n10 x 9 = 90\n10 x 10 = 100\n\n === Tabla del 11 ===\n11 x 1 = 11\n11 x 2 = 22\n11 x 3 = 33\n11 x 4 = 44\n11 x 5 = 55\n11 x 6 = 66\n11 x 7 = 77\n11 x 8 = 88\n11 x 9 = 99\n11 x 10 = 110\n\n === Tabla del 12 ===\n12 x 1 = 12\n12 x 2 = 24\n12 x 3 = 36\n12 x 4 = 48\n12 x 5 = 60\n12 x 6 = 72\n12 x 7 = 84\n12 x 8 = 96\n12 x 9 = 108\n12 x 10 = 120\n\n === Tabla del 13 ===\n13 x 1 = 13\n13 x 2 = 26\n13 x 3 = 39\n13 x 4 = 52\n13 x 5 = 65\n13 x 6 = 78\n13 x 7 = 91\n13 x 8 = 104\n13 x 9 = 117\n13 x 10 = 130\n\n === Tabla del 14 ===\n14 x 1 = 14\n14 x 2 = 28\n14 x 3 = 42\n14 x 4 = 56\n14 x 5 = 70\n14 x 6 = 84\n14 x 7 = 98\n14 x 8 = 112\n14 x 9 = 126\n14 x 10 = 140\n\n === Tabla del 15 ===\n15 x 1 = 15\n15 x 2 = 30\n15 x 3 = 45\n15 x 4 = 60\n15 x 5 = 75\n15 x 6 = 90\n15 x 7 = 105\n15 x 8 = 120\n15 x 9 = 135\n15 x 10 = 150\n\n === Tabla del 16 ===\n16 x 1 = 16\n16 x 2 = 32\n16 x 3 = 48\n16 x 4 = 64\n16 x 5 = 80\n16 x 6 = 96\n16 x 7 = 112\n16 x 8 = 128\n16 x 9 = 144\n16 x 10 = 160\n\n === Tabla del 17 ===\n17 x 1 = 17\n17 x 2 = 34\n17 x 3 = 51\n17 x 4 = 68\n17 x 5 = 85\n17 x 6 = 102\n17 x 7 = 119\n17 x 8 = 136\n17 x 9 = 153\n17 x 10 = 170\n\n === Tabla del 18 ===\n18 x 1 = 18\n18 x 2 = 36\n18 x 3 = 54\n18 x 4 = 72\n18 x 5 = 90\n18 x 6 = 108\n18 x 7 = 126\n18 x 8 = 144\n18 x 9 = 162\n18 x 10 = 180\n\n === Tabla del 19 ===\n19 x 1 = 19\n19 x 2 = 38\n19 x 3 = 57\n19 x 4 = 76\n19 x 5 = 95\n19 x 6 = 114\n19 x 7 = 133\n19 x 8 = 152\n19 x 9 = 171\n19 x 10 = 190\n\n === Tabla del 20 ===\n20 x 1 = 20\n20 x 2 = 40\n20 x 3 = 60\n20 x 4 = 80\n20 x 5 = 100\n20 x 6 = 120\n20 x 7 = 140\n20 x 8 = 160\n20 x 9 = 180\n20 x 10 = 200\n"
     ]
    }
   ],
   "source": [
    "## Ejercicio 7\n",
    "a = list(range(1,21,1))\n",
    "b = []\n",
    "for n in a:\n",
    "    b.append([n * m for m in range(1,11)])\n",
    "\n",
    "total_7 = tuple(zip(a,b))\n",
    "\n",
    "for i in total_7:\n",
    "    print(\"\\n === Tabla del {} ===\".format(i[0]))\n",
    "    for j in i[1]:\n",
    "        print(\"{} x {} = {}\".format(i[0], i[1].index(j) + 1, j))"
   ]
  },
  {
   "cell_type": "code",
   "execution_count": 15,
   "metadata": {},
   "outputs": [
    {
     "output_type": "stream",
     "name": "stdout",
     "text": [
      "[25, 6, 4.166666666666667, 1]\n"
     ]
    }
   ],
   "source": [
    "## Ejercicio 8\n",
    "a8 = int(input(\"Introduce un numero entero: \"))\n",
    "b8 = int(input(\"Introduce un numero entero: \"))\n",
    "results_8 = []\n",
    "\n",
    "if a8 >= b8:\n",
    "    results_8.append(a8)\n",
    "    results_8.append(b8)\n",
    "    results_8.append(a8//b8)\n",
    "    results_8.append(a8%b8)\n",
    "else:\n",
    "    print(\"El primer número debe ser mayor o igual que el segundo.\")\n",
    "\n",
    "print(results_8)"
   ]
  },
  {
   "cell_type": "code",
   "execution_count": 19,
   "metadata": {},
   "outputs": [
    {
     "output_type": "stream",
     "name": "stdout",
     "text": [
      "[[25, 0.4363323129985824]]\n"
     ]
    }
   ],
   "source": [
    "## Ejercicio 9.\n",
    "n9 = int(input(\"Introduce un numero entero entre 0 y 360: \"))\n",
    "total_9 = []\n",
    "if n9 >=0 and n9 <= 360:\n",
    "    total_9.append([n9, ((2*3.141592653589793*n9) /360)])\n",
    "    print(total_9)\n",
    "else:\n",
    "    print(\"El numero debe estar entre 0 y 360\")\n",
    "\n",
    "\n"
   ]
  },
  {
   "cell_type": "code",
   "execution_count": 21,
   "metadata": {},
   "outputs": [
    {
     "output_type": "stream",
     "name": "stdout",
     "text": [
      "((10+52j), (-10-52j), (10-52j))\n"
     ]
    }
   ],
   "source": [
    "## Ejercicio 10\n",
    "e10 = complex(float(input(\"Introduce la parte real: \")),\n",
    "              float(input(\"Introduce la parte imaginaria: \")))\n",
    "\n",
    "print((e10, -e10, e10.conjugate()))"
   ]
  },
  {
   "cell_type": "code",
   "execution_count": null,
   "metadata": {},
   "outputs": [],
   "source": []
  }
 ]
}