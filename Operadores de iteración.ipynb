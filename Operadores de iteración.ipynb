{
 "cells": [
  {
   "cell_type": "code",
   "execution_count": 1,
   "metadata": {},
   "outputs": [
    {
     "name": "stdout",
     "output_type": "stream",
     "text": [
      "1\n",
      "2\n",
      "3\n",
      "4\n",
      "5\n",
      "6\n",
      "7\n",
      "8\n",
      "9\n",
      "10\n"
     ]
    }
   ],
   "source": [
    "i = 1 # Inicializando la variable\n",
    "while i <= 10:\n",
    "    print(i)\n",
    "    i += 1"
   ]
  },
  {
   "cell_type": "code",
   "execution_count": 4,
   "metadata": {},
   "outputs": [
    {
     "name": "stdout",
     "output_type": "stream",
     "text": [
      "En total hay 7 vocales.\n"
     ]
    }
   ],
   "source": [
    "## Con un bucle while recorrer una frase y contar el numero de vocales. \n",
    "s = \"el pato hace cuack!!\"\n",
    "\n",
    "i = 0\n",
    "count = 0\n",
    "\n",
    "while i < len(s):\n",
    "    if s[i] == 'a' or s[i] == 'e' or s[i] == 'i' or s[i] == 'o' or s[i] == 'u':\n",
    "        count += 1\n",
    "    i += 1\n",
    "\n",
    "print(\"En total hay {} vocales.\".format(count))\n"
   ]
  },
  {
   "cell_type": "code",
   "execution_count": 8,
   "metadata": {},
   "outputs": [
    {
     "name": "stdout",
     "output_type": "stream",
     "text": [
      "El termino 1 ocupa la posición 1\n",
      "El termino 1 ocupa la posición 2\n",
      "El termino 2 ocupa la posición 3\n",
      "El termino 3 ocupa la posición 4\n",
      "El termino 5 ocupa la posición 5\n",
      "El termino 8 ocupa la posición 6\n",
      "El termino 13 ocupa la posición 7\n",
      "El termino 21 ocupa la posición 8\n",
      "El termino 34 ocupa la posición 9\n",
      "El termino 55 ocupa la posición 10\n",
      "El termino 89 ocupa la posición 11\n",
      "El termino 144 ocupa la posición 12\n",
      "El termino 233 ocupa la posición 13\n",
      "El termino 377 ocupa la posición 14\n",
      "El termino 610 ocupa la posición 15\n",
      "El termino 987 ocupa la posición 16\n",
      "El termino 1597 ocupa la posición 17\n",
      "El termino 2584 ocupa la posición 18\n",
      "El termino 4181 ocupa la posición 19\n",
      "El termino 6765 ocupa la posición 20\n",
      "El termino 10946 ocupa la posición 21\n"
     ]
    }
   ],
   "source": [
    "fibo_ant = 1 \n",
    "fibo = 1\n",
    "idx = 2\n",
    "\n",
    "print(\"El termino {} ocupa la posición {}\".format(fibo_ant, 1))\n",
    "print(\"El termino {} ocupa la posición {}\".format(fibo, 2))\n",
    "\n",
    "while idx <= 20:\n",
    "    temp = fibo\n",
    "    fibo = fibo + fibo_ant\n",
    "    fibo_ant = temp\n",
    "    idx += 1\n",
    "    print(\"El termino {} ocupa la posición {}\".format(fibo, idx))"
   ]
  },
  {
   "cell_type": "code",
   "execution_count": 2,
   "metadata": {},
   "outputs": [
    {
     "name": "stdout",
     "output_type": "stream",
     "text": [
      "Introduce el extremo inferior del intervalo: 1\n",
      "Introduce el extremo superior del intervalo: 2\n",
      "Dentro del intervalo no hay numeros divisibles entre 2, 3 y 5\n"
     ]
    }
   ],
   "source": [
    "## Ejercicio.\n",
    "a = int(input(\"Introduce el extremo inferior del intervalo: \"))\n",
    "b = int(input(\"Introduce el extremo superior del intervalo: \"))\n",
    "\n",
    "n = a\n",
    "while n <= b:\n",
    "    if n%2 == 0 and n%3 == 0 and n%5 == 0:\n",
    "        print(n)\n",
    "        break\n",
    "    n+=1\n",
    "if n == b+1:\n",
    "    print(\"Dentro del intervalo no hay numeros divisibles entre 2, 3 y 5\")"
   ]
  },
  {
   "cell_type": "code",
   "execution_count": 3,
   "metadata": {},
   "outputs": [
    {
     "data": {
      "text/plain": [
       "'A'"
      ]
     },
     "execution_count": 3,
     "metadata": {},
     "output_type": "execute_result"
    }
   ],
   "source": [
    "## Combinación while ... else.\n",
    "chr(65)"
   ]
  },
  {
   "cell_type": "code",
   "execution_count": 10,
   "metadata": {},
   "outputs": [
    {
     "name": "stdout",
     "output_type": "stream",
     "text": [
      "Introduce una rotación: 20\n",
      "A: U\n",
      "B: V\n",
      "C: W\n",
      "D: X\n",
      "E: Y\n",
      "F: Z\n",
      "G: A\n",
      "H: B\n",
      "I: C\n",
      "J: D\n",
      "K: E\n",
      "L: F\n",
      "M: G\n",
      "N: H\n",
      "O: I\n",
      "P: J\n",
      "Q: K\n",
      "R: L\n",
      "S: M\n",
      "T: N\n",
      "U: O\n",
      "V: P\n",
      "W: Q\n",
      "X: R\n",
      "Y: S\n",
      "Z: T\n"
     ]
    }
   ],
   "source": [
    "n = int(input(\"Introduce una rotación: \"))\n",
    "i = 65\n",
    "\n",
    "while i <= 90:\n",
    "  if i + n <= 90:\n",
    "    print(chr(i) + \": \" + chr(i + n))\n",
    "  else:\n",
    "    print(chr(i) + \": \" + chr((i - 26) + n))\n",
    "  i += 1"
   ]
  },
  {
   "cell_type": "code",
   "execution_count": 11,
   "metadata": {},
   "outputs": [
    {
     "name": "stdout",
     "output_type": "stream",
     "text": [
      "M\n",
      "e\n",
      " \n",
      "g\n",
      "u\n",
      "s\n",
      "t\n",
      "a\n",
      "n\n",
      " \n",
      "l\n",
      "a\n",
      "s\n",
      " \n",
      "m\n",
      "a\n",
      "t\n",
      "e\n",
      "m\n",
      "a\n",
      "t\n",
      "i\n",
      "c\n",
      "a\n",
      "s\n"
     ]
    }
   ],
   "source": [
    "s =  \"Me gustan las matematicas\"\n",
    "for c in s:\n",
    "    print(c)"
   ]
  },
  {
   "cell_type": "code",
   "execution_count": 15,
   "metadata": {},
   "outputs": [
    {
     "name": "stdout",
     "output_type": "stream",
     "text": [
      "anit al aval atina\n"
     ]
    }
   ],
   "source": [
    "s = \"anita lava la tina\"\n",
    "s_i =\"\"\n",
    "\n",
    "for c in s:\n",
    "    s_i = c + s_i\n",
    "    \n",
    "print(s_i)"
   ]
  },
  {
   "cell_type": "code",
   "execution_count": 17,
   "metadata": {},
   "outputs": [
    {
     "name": "stdout",
     "output_type": "stream",
     "text": [
      "10\n",
      "9\n",
      "8\n",
      "7\n",
      "6\n",
      "5\n",
      "4\n",
      "3\n",
      "2\n",
      "1\n"
     ]
    }
   ],
   "source": [
    " for i in range(10,0,-1):\n",
    "        print(i)"
   ]
  },
  {
   "cell_type": "code",
   "execution_count": 22,
   "metadata": {},
   "outputs": [
    {
     "name": "stdout",
     "output_type": "stream",
     "text": [
      "Introduce el termino inicial: 2\n",
      "Introduce el termino final: 10\n",
      "Introduce la diferencia de la progresion: 1\n",
      "La suma de los términos en la sucesion es 54\n"
     ]
    }
   ],
   "source": [
    "a0 = int(input(\"Introduce el termino inicial: \"))\n",
    "a1 = int(input(\"Introduce el termino final: \"))\n",
    "dif = int(input(\"Introduce la diferencia de la progresion: \"))\n",
    "suma = int()\n",
    "for n in range(a0,a1+1,dif):\n",
    "    suma += n\n",
    "print(\"La suma de los términos en la sucesion es\",suma)"
   ]
  },
  {
   "cell_type": "code",
   "execution_count": null,
   "metadata": {},
   "outputs": [],
   "source": []
  }
 ],
 "metadata": {
  "kernelspec": {
   "display_name": "Python 3",
   "language": "python",
   "name": "python3"
  },
  "language_info": {
   "codemirror_mode": {
    "name": "ipython",
    "version": 3
   },
   "file_extension": ".py",
   "mimetype": "text/x-python",
   "name": "python",
   "nbconvert_exporter": "python",
   "pygments_lexer": "ipython3",
   "version": "3.8.5"
  }
 },
 "nbformat": 4,
 "nbformat_minor": 4
}
