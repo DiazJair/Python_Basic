{
 "metadata": {
  "language_info": {
   "codemirror_mode": {
    "name": "ipython",
    "version": 3
   },
   "file_extension": ".py",
   "mimetype": "text/x-python",
   "name": "python",
   "nbconvert_exporter": "python",
   "pygments_lexer": "ipython3",
   "version": "3.8.5"
  },
  "orig_nbformat": 2,
  "kernelspec": {
   "name": "python385jvsc74a57bd03b5a66c4cd92ecee07f1485d34fad62cbd55b4ae9150b9526340b04fbd6ba8a7",
   "display_name": "Python 3.8.5 64-bit ('base': conda)"
  }
 },
 "nbformat": 4,
 "nbformat_minor": 2,
 "cells": [
  {
   "cell_type": "code",
   "execution_count": 19,
   "metadata": {},
   "outputs": [],
   "source": [
    "## Funcion que dado un número, nos dice si éste es positivo, negativo o cero. \n",
    "def sign(x):\n",
    "    \"\"\"\n",
    "    Función que dado un número, devuelve el valor del signo.\n",
    "\n",
    "    Args:\n",
    "        x(float or int): Número a evaluar. \n",
    "    \"\"\"\n",
    "    if type(x) == str:\n",
    "        print(\"Eso es un string.\")\n",
    "    elif type(x) == float or int: \n",
    "        if x > 0:\n",
    "            print(\"El numero es positivo\")\n",
    "        elif x == 0:\n",
    "            print(\"El numero vale 0\")\n",
    "        else:\n",
    "            print(\"El numero es negativo\")\n",
    "    else:\n",
    "        print(\"Se debe introducir un número.\")\n"
   ]
  },
  {
   "cell_type": "code",
   "execution_count": 18,
   "metadata": {},
   "outputs": [
    {
     "output_type": "stream",
     "name": "stdout",
     "text": [
      "Eso es un string.\n"
     ]
    }
   ],
   "source": [
    "sign(\"sdas\")"
   ]
  },
  {
   "cell_type": "code",
   "execution_count": 4,
   "metadata": {},
   "outputs": [],
   "source": [
    "def mult_table(n):\n",
    "    if type(n) != type(5):\n",
    "        print(\"El número no es entero.\")\n",
    "        return\n",
    "        \n",
    "    numbers = []\n",
    "    for i in range(1,11):\n",
    "        numbers.append(n*i)\n",
    "    return numbers "
   ]
  },
  {
   "cell_type": "code",
   "execution_count": 5,
   "metadata": {},
   "outputs": [
    {
     "output_type": "execute_result",
     "data": {
      "text/plain": [
       "[5, 10, 15, 20, 25, 30, 35, 40, 45, 50]"
      ]
     },
     "metadata": {},
     "execution_count": 5
    }
   ],
   "source": [
    "mult_table(5)"
   ]
  },
  {
   "cell_type": "code",
   "execution_count": 7,
   "metadata": {},
   "outputs": [
    {
     "output_type": "stream",
     "name": "stdout",
     "text": [
      "El número no es entero.\n"
     ]
    }
   ],
   "source": [
    "mult_table(\"az\")"
   ]
  },
  {
   "cell_type": "code",
   "execution_count": 19,
   "metadata": {},
   "outputs": [],
   "source": [
    "def a_finder(a):\n",
    "    i = 0\n",
    "    while a[i] != \".\":\n",
    "        if a[i] == \"a\":\n",
    "            return print(\"La frase contiene la letra a\")\n",
    "        i += 1\n",
    "    return False\n"
   ]
  },
  {
   "cell_type": "code",
   "execution_count": 20,
   "metadata": {},
   "outputs": [
    {
     "output_type": "stream",
     "name": "stdout",
     "text": [
      "La frase contiene la letra a\n"
     ]
    }
   ],
   "source": [
    "a_finder(\"Mi mama me mima.\")"
   ]
  },
  {
   "cell_type": "code",
   "execution_count": 21,
   "metadata": {},
   "outputs": [],
   "source": [
    "def letter_finder(a,b):\n",
    "    i = 0\n",
    "    while a[i] != a[-1]:\n",
    "        if a[i] == b:\n",
    "            return print(\"La frase contiene la letra {}\".format(b))\n",
    "        i += 1\n",
    "    return False\n"
   ]
  },
  {
   "cell_type": "code",
   "execution_count": 23,
   "metadata": {},
   "outputs": [
    {
     "output_type": "stream",
     "name": "stdout",
     "text": [
      "La frase contiene la letra m\n"
     ]
    }
   ],
   "source": [
    "letter_finder(\"mi mama me mima\", \"m\")"
   ]
  },
  {
   "cell_type": "code",
   "execution_count": 3,
   "metadata": {},
   "outputs": [],
   "source": [
    "def Fibonacci(n):\n",
    "    \"\"\"\n",
    "    Introduciendo un número, da el valor de fibonacci en la posición introducida. \n",
    "    arg:\n",
    "        n = Posición\n",
    "    return:\n",
    "        Número en la serie de fibonacci.\n",
    "    Nota: No usar con numeros mayores a 25. Peligro de saturación de memoria. \n",
    "    \"\"\"\n",
    "    if n == 1 or n == 0:\n",
    "        return 1\n",
    "    return Fibonacci(n-1) + Fibonacci(n-2)\n",
    "    "
   ]
  },
  {
   "cell_type": "code",
   "execution_count": 4,
   "metadata": {},
   "outputs": [
    {
     "output_type": "execute_result",
     "data": {
      "text/plain": [
       "1"
      ]
     },
     "metadata": {},
     "execution_count": 4
    }
   ],
   "source": [
    "Fibonacci(1)"
   ]
  },
  {
   "cell_type": "code",
   "execution_count": 5,
   "metadata": {},
   "outputs": [
    {
     "output_type": "execute_result",
     "data": {
      "text/plain": [
       "13"
      ]
     },
     "metadata": {},
     "execution_count": 5
    }
   ],
   "source": [
    "Fibonacci(6)"
   ]
  },
  {
   "cell_type": "code",
   "execution_count": 8,
   "metadata": {},
   "outputs": [],
   "source": [
    "def calculadora(op, x, y):\n",
    "    \"\"\"\n",
    "    Resuelve la operación arimetica para los valores de x & y.\n",
    "    Arg\n",
    "        op = Valor de operacion.\n",
    "        x = Numero real. \n",
    "        y = Número real. \n",
    "    return\n",
    "        Resultado de la operación.\n",
    "    \"\"\"\n",
    "    op = op.lower()\n",
    "    if op == \"sum\":\n",
    "        result = x+y\n",
    "    elif op == \"substract\":\n",
    "        result = x-y\n",
    "    elif op == \"product\":\n",
    "        result = x*y\n",
    "    elif op == \"division\":\n",
    "        result = x/y\n",
    "    \n",
    "    else:\n",
    "        print(\"Debes introducir la operacion a realizar.\")\n",
    "        result =\"Null\"\n",
    "    \n",
    "    if result != \"Null\":\n",
    "        helper(op, x,y)\n",
    "        return result\n",
    "\n",
    "    \n",
    "def helper(op, x, y):\n",
    "    if op == \"sum\":\n",
    "        sing = \"+\"\n",
    "    elif op == \"substract\":\n",
    "        sing = \"-\"\n",
    "    elif op == \"product\":\n",
    "        sing = \"*\"\n",
    "    elif op == \"division\":\n",
    "        sing = \"/\"\n",
    "\n",
    "    print(\"Se ha realizado la operación {} {} {}\".format(x,sing, y))\n",
    "        "
   ]
  },
  {
   "cell_type": "code",
   "execution_count": 13,
   "metadata": {},
   "outputs": [
    {
     "output_type": "stream",
     "name": "stdout",
     "text": [
      "Debes introducir la operacion a realizar.\n"
     ]
    }
   ],
   "source": [
    "calculadora(\"divi\", 85, 755)"
   ]
  },
  {
   "cell_type": "code",
   "execution_count": null,
   "metadata": {},
   "outputs": [],
   "source": []
  }
 ]
}