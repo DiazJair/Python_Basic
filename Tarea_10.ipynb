{
 "cells": [
  {
   "cell_type": "code",
   "execution_count": 7,
   "source": [
    "# Crea una función lambda que dado un número entero multiplique por su anterior y su siguiente. Por ejemplo. \n",
    "# Si proporcionamos n = 3, nos tendrá que devolver 2 · 3 · 4 = 24.\n",
    "e1 = lambda x: (x-1)*x*(x+1)\n",
    "e1(3)"
   ],
   "outputs": [
    {
     "output_type": "execute_result",
     "data": {
      "text/plain": [
       "24"
      ]
     },
     "metadata": {},
     "execution_count": 7
    }
   ],
   "metadata": {}
  },
  {
   "cell_type": "code",
   "execution_count": 11,
   "source": [
    "# Crea una función lambda que dados dos números devuelva si el primero es mayor.\n",
    "e2 = lambda x, y: x > y\n",
    "e2(6,15)"
   ],
   "outputs": [
    {
     "output_type": "execute_result",
     "data": {
      "text/plain": [
       "False"
      ]
     },
     "metadata": {},
     "execution_count": 11
    }
   ],
   "metadata": {}
  },
  {
   "cell_type": "code",
   "execution_count": 12,
   "source": [
    "# Dada una lista de palabras, quédate con filter() con las que tengan más vocales que consonantes.\n",
    "# Necesitarás una función que devuelva si una palabra tiene más vocales que consonantes.\n",
    "lista_ejemplo = ['Portero', 'Defensa', 'Lateral', 'MedioCentro', 'Centro Campista', 'Extremo', 'Delantero', 'Arquero', 'Carrilero', 'Portero', 'Lateral']"
   ],
   "outputs": [],
   "metadata": {}
  },
  {
   "cell_type": "code",
   "execution_count": 20,
   "source": [
    "def vow_vs_cons(x):\n",
    "    \"\"\"\n",
    "    Funcion que devuelve True si una palabra tiene más vocales que consonantes.\n",
    "    Args:\n",
    "        x: Palabra a analizar.\n",
    "    Returns:\n",
    "        True: Si la palabra tiene mas vocales que consonantes. \n",
    "    \"\"\"\n",
    "    \n",
    "    mayus = 0\n",
    "    minus = 0\n",
    "    minus_list = [\"a\",\"e\",\"i\",\"o\",\"u\"]\n",
    "    for c in x.lower():\n",
    "        if c != \" \":\n",
    "            if c in minus_list:\n",
    "                minus += 1\n",
    "            else:\n",
    "                mayus += 1\n",
    "    if minus > mayus:\n",
    "        return True"
   ],
   "outputs": [],
   "metadata": {}
  },
  {
   "cell_type": "code",
   "execution_count": 23,
   "source": [
    "list(filter(vow_vs_cons, lista_ejemplo))"
   ],
   "outputs": [
    {
     "output_type": "execute_result",
     "data": {
      "text/plain": [
       "['Arquero']"
      ]
     },
     "metadata": {},
     "execution_count": 23
    }
   ],
   "metadata": {}
  },
  {
   "cell_type": "code",
   "execution_count": 44,
   "source": [
    "def number_divisors(n):\n",
    "    \"\"\"\"\n",
    "    Función para obtener el numero de divisores de un número.\n",
    "    Args:\n",
    "        n = Un número entero.\n",
    "    Returns:\n",
    "        d = Número de divisores exactos\n",
    "    \"\"\"\n",
    "    if type(n) == int and n > 0:\n",
    "        d = 0\n",
    "        for i in range(1,n+1):\n",
    "            if n % i == 0:\n",
    "                d += 1\n",
    "    return d"
   ],
   "outputs": [],
   "metadata": {}
  },
  {
   "cell_type": "code",
   "execution_count": 42,
   "source": [
    "list_numbers = [156,458,2,4647,45,156,741]"
   ],
   "outputs": [],
   "metadata": {}
  },
  {
   "cell_type": "code",
   "execution_count": 45,
   "source": [
    "list(filter(lambda n: number_divisors(n) > 5 , list_numbers))"
   ],
   "outputs": [
    {
     "output_type": "execute_result",
     "data": {
      "text/plain": [
       "[156, 45, 156, 741]"
      ]
     },
     "metadata": {},
     "execution_count": 45
    }
   ],
   "metadata": {}
  }
 ],
 "metadata": {
  "kernelspec": {
   "name": "python3",
   "display_name": "Python 3.8.5 64-bit ('base': conda)"
  },
  "language_info": {
   "codemirror_mode": {
    "name": "ipython",
    "version": 3
   },
   "file_extension": ".py",
   "mimetype": "text/x-python",
   "name": "python",
   "nbconvert_exporter": "python",
   "pygments_lexer": "ipython3",
   "version": "3.8.5"
  },
  "interpreter": {
   "hash": "3b5a66c4cd92ecee07f1485d34fad62cbd55b4ae9150b9526340b04fbd6ba8a7"
  }
 },
 "nbformat": 4,
 "nbformat_minor": 5
}