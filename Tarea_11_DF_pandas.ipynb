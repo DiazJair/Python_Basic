{
  "nbformat": 4,
  "nbformat_minor": 0,
  "metadata": {
    "colab": {
      "name": "Tarea_11_DF_pandas.ipynb",
      "provenance": []
    },
    "kernelspec": {
      "name": "python3",
      "display_name": "Python 3"
    },
    "language_info": {
      "name": "python"
    }
  },
  "cells": [
    {
      "cell_type": "code",
      "metadata": {
        "colab": {
          "base_uri": "https://localhost:8080/"
        },
        "id": "lnWvlcpkC6j8",
        "outputId": "90065778-e31e-4b93-feab-cbc8d4fa0a67"
      },
      "source": [
        "# Ejercicio 1.\n",
        "# Crea un dataframe con 15 filas y 2 columnas. La primera columna se llamará x, la segunda y.\n",
        "# Cada entrada será un número real a tu elección.\n",
        "# Guarda el dataframe en una variable llamada points\n",
        "\n",
        "import pandas as pd\n",
        "points = {\"x\":[1,2,3,-4,5,6,-7,8,9,-10,11,12,13,14,15], \"y\":[2,4,6,8,-10,12,14,-16,18,20,20,12,13,14,15]}\n",
        "points_1 = pd.DataFrame(data=points)\n",
        "print(points_1)"
      ],
      "execution_count": null,
      "outputs": [
        {
          "output_type": "stream",
          "name": "stdout",
          "text": [
            "     x   y\n",
            "0    1   2\n",
            "1    2   4\n",
            "2    3   6\n",
            "3   -4   8\n",
            "4    5 -10\n",
            "5    6  12\n",
            "6   -7  14\n",
            "7    8 -16\n",
            "8    9  18\n",
            "9  -10  20\n",
            "10  11  20\n",
            "11  12  12\n",
            "12  13  13\n",
            "13  14  14\n",
            "14  15  15\n"
          ]
        }
      ]
    },
    {
      "cell_type": "code",
      "metadata": {
        "colab": {
          "base_uri": "https://localhost:8080/",
          "height": 421
        },
        "id": "FXbeel3jFBvC",
        "outputId": "7e23c914-ae37-4328-a98a-5c8a497e6f5b"
      },
      "source": [
        "# Ejercicio 2\n",
        "# Del dataset points, muestra las filas cuyo valor en la columna x sea positivo.\n",
        "points_1[points_1['x'] > 0]"
      ],
      "execution_count": null,
      "outputs": [
        {
          "output_type": "execute_result",
          "data": {
            "text/html": [
              "<div>\n",
              "<style scoped>\n",
              "    .dataframe tbody tr th:only-of-type {\n",
              "        vertical-align: middle;\n",
              "    }\n",
              "\n",
              "    .dataframe tbody tr th {\n",
              "        vertical-align: top;\n",
              "    }\n",
              "\n",
              "    .dataframe thead th {\n",
              "        text-align: right;\n",
              "    }\n",
              "</style>\n",
              "<table border=\"1\" class=\"dataframe\">\n",
              "  <thead>\n",
              "    <tr style=\"text-align: right;\">\n",
              "      <th></th>\n",
              "      <th>x</th>\n",
              "      <th>y</th>\n",
              "    </tr>\n",
              "  </thead>\n",
              "  <tbody>\n",
              "    <tr>\n",
              "      <th>0</th>\n",
              "      <td>1</td>\n",
              "      <td>2</td>\n",
              "    </tr>\n",
              "    <tr>\n",
              "      <th>1</th>\n",
              "      <td>2</td>\n",
              "      <td>4</td>\n",
              "    </tr>\n",
              "    <tr>\n",
              "      <th>2</th>\n",
              "      <td>3</td>\n",
              "      <td>6</td>\n",
              "    </tr>\n",
              "    <tr>\n",
              "      <th>4</th>\n",
              "      <td>5</td>\n",
              "      <td>-10</td>\n",
              "    </tr>\n",
              "    <tr>\n",
              "      <th>5</th>\n",
              "      <td>6</td>\n",
              "      <td>12</td>\n",
              "    </tr>\n",
              "    <tr>\n",
              "      <th>7</th>\n",
              "      <td>8</td>\n",
              "      <td>-16</td>\n",
              "    </tr>\n",
              "    <tr>\n",
              "      <th>8</th>\n",
              "      <td>9</td>\n",
              "      <td>18</td>\n",
              "    </tr>\n",
              "    <tr>\n",
              "      <th>10</th>\n",
              "      <td>11</td>\n",
              "      <td>20</td>\n",
              "    </tr>\n",
              "    <tr>\n",
              "      <th>11</th>\n",
              "      <td>12</td>\n",
              "      <td>12</td>\n",
              "    </tr>\n",
              "    <tr>\n",
              "      <th>12</th>\n",
              "      <td>13</td>\n",
              "      <td>13</td>\n",
              "    </tr>\n",
              "    <tr>\n",
              "      <th>13</th>\n",
              "      <td>14</td>\n",
              "      <td>14</td>\n",
              "    </tr>\n",
              "    <tr>\n",
              "      <th>14</th>\n",
              "      <td>15</td>\n",
              "      <td>15</td>\n",
              "    </tr>\n",
              "  </tbody>\n",
              "</table>\n",
              "</div>"
            ],
            "text/plain": [
              "     x   y\n",
              "0    1   2\n",
              "1    2   4\n",
              "2    3   6\n",
              "4    5 -10\n",
              "5    6  12\n",
              "7    8 -16\n",
              "8    9  18\n",
              "10  11  20\n",
              "11  12  12\n",
              "12  13  13\n",
              "13  14  14\n",
              "14  15  15"
            ]
          },
          "metadata": {},
          "execution_count": 2
        }
      ]
    },
    {
      "cell_type": "code",
      "metadata": {
        "colab": {
          "base_uri": "https://localhost:8080/"
        },
        "id": "rJT7xAHkGkUA",
        "outputId": "3902abf7-3f30-4c17-8e60-c5f30d79f915"
      },
      "source": [
        "# Ejercicio 3\n",
        "# Del dataset points, muestra las filas cuyo valor en la columna \"y\" sea negativo. Usa el método .query().\n",
        "y_negative = points_1.query('y < 0')\n",
        "print(y_negative)"
      ],
      "execution_count": null,
      "outputs": [
        {
          "output_type": "stream",
          "name": "stdout",
          "text": [
            "   x   y\n",
            "4  5 -10\n",
            "7  8 -16\n"
          ]
        }
      ]
    },
    {
      "cell_type": "code",
      "metadata": {
        "id": "zxxV4qs7Mmim",
        "colab": {
          "base_uri": "https://localhost:8080/"
        },
        "outputId": "953fabdd-4dea-49ba-8097-3673c193ca30"
      },
      "source": [
        "# Ejercicio 4labras_encadenadas(\"imagine\",\"esfuerzo\")\n",
        "# Del dataset points, muestra las observaciones cuyos puntos (x, y) pertenezcan al primer cuadrante. Usa el método .query().\n",
        "first_cuadrant = points_1.query(\"x > 0 and y > 0\")\n",
        "print(first_cuadrant)"
      ],
      "execution_count": null,
      "outputs": [
        {
          "output_type": "stream",
          "name": "stdout",
          "text": [
            "     x   y\n",
            "0    1   2\n",
            "1    2   4\n",
            "2    3   6\n",
            "5    6  12\n",
            "8    9  18\n",
            "10  11  20\n",
            "11  12  12\n",
            "12  13  13\n",
            "13  14  14\n",
            "14  15  15\n"
          ]
        }
      ]
    },
    {
      "cell_type": "code",
      "metadata": {
        "colab": {
          "base_uri": "https://localhost:8080/"
        },
        "id": "zNi7ni25GVaY",
        "outputId": "00f995bb-499e-4e61-e8e1-d8872e21f034"
      },
      "source": [
        "# Ejercicio 5\n",
        "# Del dataset points, muestra las observaciones de la forma: “El punto ({x}, {y}) {no/sí} pertenece al primer cuadrante”.\n",
        "for p in points_1.itertuples():\n",
        "  print(\"El punto ({}, {}) {} pertenece al primer cuadrante\".format(p[1],p[2],\"si\" if p[1] > 0 and p[2] > 0 else \"no\"))"
      ],
      "execution_count": null,
      "outputs": [
        {
          "output_type": "stream",
          "name": "stdout",
          "text": [
            "El punto (1, 2) si pertenece al primer cuadrante\n",
            "El punto (2, 4) si pertenece al primer cuadrante\n",
            "El punto (3, 6) si pertenece al primer cuadrante\n",
            "El punto (-4, 8) no pertenece al primer cuadrante\n",
            "El punto (5, -10) no pertenece al primer cuadrante\n",
            "El punto (6, 12) si pertenece al primer cuadrante\n",
            "El punto (-7, 14) no pertenece al primer cuadrante\n",
            "El punto (8, -16) no pertenece al primer cuadrante\n",
            "El punto (9, 18) si pertenece al primer cuadrante\n",
            "El punto (-10, 20) no pertenece al primer cuadrante\n",
            "El punto (11, 20) si pertenece al primer cuadrante\n",
            "El punto (12, 12) si pertenece al primer cuadrante\n",
            "El punto (13, 13) si pertenece al primer cuadrante\n",
            "El punto (14, 14) si pertenece al primer cuadrante\n",
            "El punto (15, 15) si pertenece al primer cuadrante\n"
          ]
        }
      ]
    },
    {
      "cell_type": "code",
      "metadata": {
        "id": "ZuwpMLOPKfLm"
      },
      "source": [
        "# Ejercicio 6.\n",
        "\n",
        "import pandas as pd\n",
        "e6 = {\"word\":[\"euro\", \"diez\", \"algas\", \"broma\", \"\"], \"lenght\":[], \"vowels\":[], \"consonants\":[]}\n",
        "words = pd.DataFrame(data=e6)labras_encadenadas(\"imagine\",\"esfuerzo\")\n",
        "print(words)"
      ],
      "execution_count": null,
      "outputs": []
    }
  ]
}