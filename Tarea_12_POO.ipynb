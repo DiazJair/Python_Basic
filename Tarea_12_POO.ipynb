{
 "cells": [
  {
   "cell_type": "code",
   "execution_count": 31,
   "metadata": {},
   "outputs": [],
   "source": [
    "# Ejercicio 1.\n",
    "# A lo largo de toda esta taraea vas a construir la clase Date. Empieza con el constructor, que recibe por parámetros el día (day), mes (month) y año (year). Los 3 parámetros son de tipo int y por defecto todos\n",
    "# valen 1.\n",
    "class Date():\n",
    "    \"\"\"\n",
    "    Clase de la tarea 12.\n",
    "    \"\"\"\n",
    "    def __init__(self, day = int(1), month = int(1), year = int(1)) -> None:\n",
    "        self.day = day\n",
    "        self.month = month\n",
    "        self.year = year\n",
    "        "
   ]
  },
  {
   "cell_type": "code",
   "execution_count": 32,
   "metadata": {},
   "outputs": [],
   "source": [
    "def zero_com(num):\n",
    "    num = int(num)\n",
    "    if num < 100 and num > 10:\n",
    "        return(\"00{}\".format(num))\n",
    "    if num < 1000 and num > 100:\n",
    "        return(\"0{}\".format(num))\n",
    "    if num < 10:\n",
    "        return(\"000{}\".format(num))\n",
    "    if num > 1000:\n",
    "        return num"
   ]
  },
  {
   "cell_type": "code",
   "execution_count": 33,
   "metadata": {},
   "outputs": [],
   "source": [
    "# Ejercicio 2.\n",
    "# Configura el método .__str__() para que muestre la fecha en formato day / month / year. Si el valor del día o el mes son menores a 10, mostrar el valor con un 0 delante.\n",
    "# Por ejemplo, si day = 8, month = 7 y year = 1998, entonces se debería mostrar 08 / 07 / 1998.\n",
    "# En el caso del año, si el año es menor a 1000, mostrar con un cero delante; si es menor a 100, mostrar con 2 ceros delante; y si es menor a 10, mostrar con 3 ceros delante.\n",
    "# PISTA: Puedes crear una función que dado un número entero y el número de cifras que debe tener, rellene con ceros a la izquierda hasta completar el número de cifras indicado.\n",
    "class Date():\n",
    "    \"\"\"\n",
    "    Clase de la tarea 12.\n",
    "    \"\"\"\n",
    "    def __init__(self, day = int(1), month = int(1), year = int(1)) -> None:\n",
    "        self.day = day\n",
    "        self.month = month\n",
    "        self.year = year\n",
    "\n",
    "    def __str__(self):\n",
    "        return(\"{}/{}/{}\".format(self.day, self.month, zero_com(self.year)))\n"
   ]
  },
  {
   "cell_type": "code",
   "execution_count": 58,
   "metadata": {},
   "outputs": [
    {
     "name": "stdout",
     "output_type": "stream",
     "text": [
      "8/7/0008\n"
     ]
    }
   ],
   "source": [
    "today = Date(day = 8, month = 7, year = 8)\n",
    "print(today)"
   ]
  },
  {
   "cell_type": "code",
   "execution_count": 59,
   "metadata": {},
   "outputs": [
    {
     "name": "stdout",
     "output_type": "stream",
     "text": [
      "9/7/0008\n"
     ]
    }
   ],
   "source": [
    "asss = today.plusDay()\n",
    "print(asss)"
   ]
  },
  {
   "cell_type": "code",
   "execution_count": 36,
   "metadata": {},
   "outputs": [],
   "source": [
    "# Ejercicio 3.\n",
    "# Implementa el método de instancia .isLeap() que diga si el año es bisiesto o no.\n",
    "class Date():\n",
    "    \"\"\"\n",
    "    Clase de la tarea 12.\n",
    "    \"\"\"\n",
    "    def __init__(self, day = int(1), month = int(1), year = int(1)) -> None:\n",
    "        self.day = day\n",
    "        self.month = month\n",
    "        self.year = year\n",
    "\n",
    "    def __str__(self):\n",
    "        return(\"{}/{}/{}\".format(self.day, self.month, zero_com(self.year)))\n",
    "\n",
    "    @staticmethod\n",
    "    def isLeap(self):\n",
    "        \"\"\"\n",
    "        Función que determina si un año es bisiesto.\n",
    "        \"\"\"\n",
    "        \n",
    "        if self.year < 400 and self.year % 4 == 0:\n",
    "            return True\n",
    "\n",
    "        elif self.year >= 400 and self.year % 4 == 0 and self.year % 400 == 0:\n",
    "            return True\n",
    "        else:\n",
    "            return False\n"
   ]
  },
  {
   "cell_type": "code",
   "execution_count": 37,
   "metadata": {},
   "outputs": [
    {
     "name": "stdout",
     "output_type": "stream",
     "text": [
      "True\n"
     ]
    }
   ],
   "source": [
    "print(Date.isLeap(today))"
   ]
  },
  {
   "cell_type": "code",
   "execution_count": 76,
   "metadata": {},
   "outputs": [],
   "source": [
    "# Ejercicio 4.\n",
    "# Implementa un método de instancia .totalMonthDays() que diga el número de días del mes. Ten en cuenta que en los años bisiestos, Febrero tiene 29 días.\n",
    "# Implementa el método de instancia .validDate() que determine si una fecha es válida. Modifica el constructor para que si la fecha introducida no es válida, devuelva un mensaje indicando\n",
    "# “¡¡¡La fecha introducida no es una fecha válida!!!”\n",
    "def validDate(self):\n",
    "    day_valid = False\n",
    "    month_valid = False\n",
    "    year_valid = False    \n",
    "    if self.day >= 1 and self.day <= 31:\n",
    "        day_valid = True\n",
    "    if self.month >= 1 and self.month <= 12:\n",
    "        month_valid = True\n",
    "    if self.year > 0:\n",
    "        year_valid = True\n",
    "        \n",
    "    if day_valid & month_valid & year_valid == True:\n",
    "            return True\n",
    "    else:\n",
    "            return False\n",
    "          \n",
    "    \n",
    "class Date():\n",
    "    \"\"\"\n",
    "    Clase de la tarea 12.\n",
    "    \"\"\"\n",
    "    def __init__(self, day = int(1), month = int(1), year = int(1)) -> None:\n",
    "        self.day = day\n",
    "        self.month = month\n",
    "        self.year = year\n",
    "        if validDate(self) == False:\n",
    "            print(\"¡¡¡La fecha introducida no es una fecha válida!!!\") \n",
    "        \n",
    "\n",
    "    def __str__(self):\n",
    "        return(\"{}/{}/{}\".format(self.day, self.month, zero_com(self.year)))\n",
    "\n",
    "\n",
    "    def isLeap(self):\n",
    "        \"\"\"\n",
    "        Función que determina si un año es bisiesto.\n",
    "        \"\"\"\n",
    "        \n",
    "        if self.year < 400 and self.year % 4 == 0:\n",
    "            return True\n",
    "\n",
    "        elif self.year >= 400 and self.year % 4 == 0 and self.year % 400 == 0:\n",
    "            return True\n",
    "        else:\n",
    "            return False\n",
    "\n",
    "    def totalMonthDays(self):\n",
    "        M31 = [1,3,5,7,8,10,12]\n",
    "        M30 = [4,6,9,11]\n",
    "\n",
    "        if self.month in M30:\n",
    "            return(\"30\")\n",
    "        elif self.month in M31:\n",
    "            return(\"31\")\n",
    "        elif self.month == 2 and self.isLeap == False:\n",
    "            return(\"28\")\n",
    "        else:\n",
    "            return(\"29\")\n",
    "\n",
    "    @property\n",
    "    def monthName(self):\n",
    "        month_names = (\"January\",\"February\", \"March\", \"April\", \"May\", \"June\", \"July\", \"August\", \"September\", \"October\", \"November\", \"December\")\n",
    "        return(month_names[self.month-1])\n",
    "\n",
    "    @staticmethod\n",
    "    def areEqual(fecha1, fecha2):\n",
    "        if fecha1.day == fecha2.day and fecha1.month == fecha2.month and fecha1.year == fecha2.year:\n",
    "            return True\n",
    "        else:\n",
    "            return False\n",
    "\n",
    "    @staticmethod\n",
    "    def isLater(fecha1, fecha2):\n",
    "        if fecha2.year > fecha1.year:\n",
    "            return True\n",
    "        elif fecha2.month > fecha1.month and fecha2.year >= fecha1.year:\n",
    "            return True\n",
    "        elif fecha2.day > fecha1.day and fecha2.month >= fecha1.month and fecha2.year >= fecha1.year:\n",
    "            return True\n",
    "        else:\n",
    "            return False\n",
    "\n",
    "    @staticmethod\n",
    "    def isPrevious(fecha1, fecha2):\n",
    "        if fecha2.year < fecha1.year:\n",
    "            return True\n",
    "        elif fecha2.month < fecha1.month and fecha2.year <= fecha1.year:\n",
    "            return True\n",
    "        elif fecha2.day < fecha1.day and fecha2.month <= fecha1.month and fecha2.year <= fecha1.year:\n",
    "            return True\n",
    "        else:\n",
    "            return False\n",
    "\n",
    "    @classmethod\n",
    "    def firstDayOfTheYear(cls, year = int, day = int(1), month = int(1)):\n",
    "        return cls(day,month,year)\n",
    "\n",
    "    @classmethod\n",
    "    def lastDayOfTheYear(cls, year = int, day = int(31), month = int(12)):\n",
    "        return cls(day,month,year)\n",
    "\n",
    "    def plusDay(self):\n",
    "        if Date.areEqual(self, Date.lastDayOfTheYear(self.year)):\n",
    "            self.day = 1\n",
    "            self.month = 1\n",
    "            self.year += 1\n",
    "        elif self.day == self.totalMonthDays():\n",
    "            self.day = 1\n",
    "            self.month += 1\n",
    "        else:\n",
    "            self.day += 1\n",
    "        return self\n",
    "\n",
    "    def minusDay(self):\n",
    "        if Date.areEqual(self, Date.firstDayOfTheYear(self.year)):\n",
    "            self.month = 12\n",
    "            self.day = 31\n",
    "            self.year -= 1\n",
    "        elif self.day == 1:\n",
    "            self.month -= 1\n",
    "            self.day = self.totalMonthDays()\n",
    "        else:\n",
    "            self.day -= 1\n",
    "        return self\n",
    "    "
   ]
  },
  {
   "cell_type": "code",
   "execution_count": 77,
   "metadata": {},
   "outputs": [],
   "source": [
    "test_minusDay = Date(1,5,1992)"
   ]
  },
  {
   "cell_type": "code",
   "execution_count": 78,
   "metadata": {},
   "outputs": [
    {
     "name": "stdout",
     "output_type": "stream",
     "text": [
      "30/4/1992\n"
     ]
    }
   ],
   "source": [
    "y1 = test_minusDay.minusDay()\n",
    "print(y1)"
   ]
  },
  {
   "cell_type": "code",
   "execution_count": 40,
   "metadata": {},
   "outputs": [
    {
     "name": "stdout",
     "output_type": "stream",
     "text": [
      "1/1/2012\n"
     ]
    }
   ],
   "source": [
    "dayx = Date().firstDayOfTheYear(2012)\n",
    "print(dayx)"
   ]
  },
  {
   "cell_type": "code",
   "execution_count": 43,
   "metadata": {},
   "outputs": [
    {
     "name": "stdout",
     "output_type": "stream",
     "text": [
      "31/12/0201\n"
     ]
    }
   ],
   "source": [
    "dayy=Date().lastDayOfTheYear(201)\n",
    "print(dayy)"
   ]
  },
  {
   "cell_type": "code",
   "execution_count": 50,
   "metadata": {},
   "outputs": [],
   "source": [
    "today = Date(day = 8, month = 12, year = 2000)\n",
    "tomorrow = Date(day= 9, month = 12, year = 2000)"
   ]
  },
  {
   "cell_type": "code",
   "execution_count": 51,
   "metadata": {},
   "outputs": [
    {
     "name": "stdout",
     "output_type": "stream",
     "text": [
      "False\n"
     ]
    }
   ],
   "source": [
    "print(Date.isPrevious(today,tomorrow))"
   ]
  },
  {
   "cell_type": "code",
   "execution_count": null,
   "metadata": {},
   "outputs": [],
   "source": [
    "# Ejercicio 5\n",
    "# Implementa la propiedad .monthName que devuelva el nombre del mes en inglés. Por ejemplo, si nuestra fecha es day = 8, month = 7 y year = 1998, la propiedad debe devolver July.\n",
    "@property\n",
    "def monthName(self):\n",
    "    month_names = (\"January\",\"February\", \"March\", \"April\", \"May\", \"June\", \"July\", \"August\", \"September\", \"October\", \"November\", \"December\")\n",
    "    return(month_names[self.month-1])\n",
    "\n",
    "\n"
   ]
  },
  {
   "cell_type": "code",
   "execution_count": null,
   "metadata": {},
   "outputs": [],
   "source": [
    "# Ejercicio 6\n",
    " # Implementa el método estático .areEqual(), que dadas dos fechas diga si son iguales.\n",
    " # Implementa el método estático .isLater(), que dadas dos fechas diga si la primera es posterior a la segunda.\n",
    " # Implementa el método estático .isPrevious(), que dadas dos fechas diga si la primera es anterior a la segunda.\n",
    "@staticmethod\n",
    "def areEqual(fecha1, fecha2):\n",
    "     if fecha1 == fecha2:\n",
    "         return True\n",
    "\n",
    "@staticmethod\n",
    "def isLater(fecha1, fecha2):\n"
   ]
  },
  {
   "cell_type": "code",
   "execution_count": null,
   "metadata": {},
   "outputs": [],
   "source": [
    "# Ejercicio 7.\n",
    "# Implementa el método de clase .firstDayOfTheYear() que dado un año cree un objeto Date con la fecha correspondiente al primer día del año indicado.\n",
    "# Implementa el método de clase .lastDayOfTheYear() que dado un año cree un objeto Date con la fecha correspondiente al último día del año indicado.\n",
    "# Implementa el método de instancia .plusDay() que incremente un día la fecha. Ten en cuenta que si estamos en el último día del mes y añadimos un día, tendremos que cambiar de mes (pasar al siguiente). \n",
    "# Y lo mismo si estamos en el último día del año (tendremos que pasar al siguiente año).\n",
    "# Implementa el método de instancia .minusDay() que decremente un día la fecha. Ten en cuenta que si estamos en el primer día del mes y restamos un día, tendremos que cambiar de mes (pasar al anterior).\n",
    "# Y lo mismo si estamos en el primer día del año (tendremos que pasar al año anterior).\n",
    "\n",
    "    \n",
    "\n"
   ]
  },
  {
   "cell_type": "code",
   "execution_count": null,
   "metadata": {},
   "outputs": [],
   "source": [
    "# Ejercicio 8\n",
    "# Implementa el método de clase .copy() que dado un objeto Date, devuelva otro objeto Date con los mismos atributos.\n",
    "# Implementea el método estático .difference() que dadas dos fechas devuelva el número de días que hay entre ellas."
   ]
  },
  {
   "cell_type": "code",
   "execution_count": null,
   "metadata": {},
   "outputs": [],
   "source": [
    "# Ejercicio 9\n",
    "# Implementa el método de clase .randomDate() que cree una fecha aleatoria válida."
   ]
  },
  {
   "cell_type": "code",
   "execution_count": null,
   "metadata": {},
   "outputs": [],
   "source": [
    "# Ejercicio 10\n",
    "# Implementa el método de clase .toDate() que dado un string con el formato \"01 January 0001\" devuelva el objeto fecha correspondiente a day = 1, month = 1, year = 1. Por ejemplo, si se pasa por parámetro\n",
    "# 05 July 1985, el método debería devolver el objeto Date con los atributos day = 5, month = 7, year = 1985."
   ]
  }
 ],
 "metadata": {
  "interpreter": {
   "hash": "31f2aee4e71d21fbe5cf8b01ff0e069b9275f58929596ceb00d14d90e3e16cd6"
  },
  "kernelspec": {
   "display_name": "Python 3.8.10 64-bit",
   "language": "python",
   "name": "python3"
  },
  "language_info": {
   "codemirror_mode": {
    "name": "ipython",
    "version": 3
   },
   "file_extension": ".py",
   "mimetype": "text/x-python",
   "name": "python",
   "nbconvert_exporter": "python",
   "pygments_lexer": "ipython3",
   "version": "3.8.8"
  },
  "orig_nbformat": 4
 },
 "nbformat": 4,
 "nbformat_minor": 2
}
