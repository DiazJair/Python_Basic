{
 "cells": [
  {
   "cell_type": "code",
   "execution_count": 3,
   "metadata": {},
   "outputs": [
    {
     "name": "stdout",
     "output_type": "stream",
     "text": [
      "Había una vez, un barco chiquitito Había una vez, un barco chiquitito que no podia, que no podia, que no podia navegar.\n"
     ]
    }
   ],
   "source": [
    "# Ejercicio 1.\n",
    "s1 = \"Había una vez, \"\n",
    "s2 = \"un barco chiquitito \"\n",
    "s3 = \"que no podia, \"\n",
    "s4 = \"que no podia navegar.\"\n",
    "\n",
    "print((s1 + s2)*2 + s3*2 + s4 )"
   ]
  },
  {
   "cell_type": "code",
   "execution_count": 6,
   "metadata": {},
   "outputs": [
    {
     "name": "stdout",
     "output_type": "stream",
     "text": [
      "Érase un hombre a una nariz pegado,\n",
      "Érase una nariz superlativa,\n",
      "Érase una alquitara medio viva,\n",
      "Érase un peje espada mal barbado;\n"
     ]
    }
   ],
   "source": [
    "# Ejercicio 2\n",
    "e2string = (\"Érase un hombre a una nariz pegado,\\nÉrase una nariz superlativa,\\nÉrase una alquitara medio viva,\\nÉrase un peje espada mal barbado;\")\n",
    "print(e2string)"
   ]
  },
  {
   "cell_type": "code",
   "execution_count": 7,
   "metadata": {},
   "outputs": [
    {
     "name": "stdout",
     "output_type": "stream",
     "text": [
      "ME ENCANTAN LAS MATEMÁTICAS\n"
     ]
    }
   ],
   "source": [
    "# Ejercicio 3\n",
    "s = \"me encantan las matemáticas\"\n",
    "print(s.upper())"
   ]
  },
  {
   "cell_type": "code",
   "execution_count": 8,
   "metadata": {},
   "outputs": [
    {
     "data": {
      "text/plain": [
       "52"
      ]
     },
     "execution_count": 8,
     "metadata": {},
     "output_type": "execute_result"
    }
   ],
   "source": [
    "# Ejercicio 4\n",
    "s = \"Mi pasión por el chocolate es superior a mis fuerzas\"\n",
    "len(s)"
   ]
  },
  {
   "cell_type": "code",
   "execution_count": 23,
   "metadata": {},
   "outputs": [
    {
     "name": "stdout",
     "output_type": "stream",
     "text": [
      "chocolate \n"
     ]
    }
   ],
   "source": [
    "# Ejercicio 5\n",
    "s = \"Mi pasión por el chocolate es superior a mis fuerzas\"\n",
    "s_sub = s[s.index(\"chocolate\"):27]\n",
    "# 17 es la primera posición donde aparece chocolate y chocolate tiene 9 letras. Por lo tanto...\n",
    "print(s_sub)"
   ]
  },
  {
   "cell_type": "code",
   "execution_count": 24,
   "metadata": {},
   "outputs": [
    {
     "name": "stdout",
     "output_type": "stream",
     "text": [
      "Introduce tu nombre: Jair\n"
     ]
    }
   ],
   "source": [
    "# Ejercicio 6\n",
    "nombre = input(\"Introduce tu nombre: \")"
   ]
  },
  {
   "cell_type": "code",
   "execution_count": 25,
   "metadata": {},
   "outputs": [
    {
     "name": "stdout",
     "output_type": "stream",
     "text": [
      "Introduce tu apellido: Diaz\n"
     ]
    }
   ],
   "source": [
    "# Ejercicio 7\n",
    "apellido = input(\"Introduce tu apellido: \")"
   ]
  },
  {
   "cell_type": "code",
   "execution_count": 26,
   "metadata": {},
   "outputs": [
    {
     "name": "stdout",
     "output_type": "stream",
     "text": [
      "Introduce tu edad: 26\n"
     ]
    }
   ],
   "source": [
    "# Ejercicio 8\n",
    "edad = int(input(\"Introduce tu edad: \"))"
   ]
  },
  {
   "cell_type": "code",
   "execution_count": 29,
   "metadata": {},
   "outputs": [
    {
     "name": "stdout",
     "output_type": "stream",
     "text": [
      "Introduce la ciudad en la que vives: Mexico\n"
     ]
    }
   ],
   "source": [
    "# Ejercicio 9\n",
    "ciudad = input(\"Introduce la ciudad en la que vives: \")"
   ]
  },
  {
   "cell_type": "code",
   "execution_count": 30,
   "metadata": {},
   "outputs": [
    {
     "name": "stdout",
     "output_type": "stream",
     "text": [
      "Su nombre es Jair Diaz, tiene 26 años y actualmente vive en Mexico.\n"
     ]
    }
   ],
   "source": [
    "# Ejercicio 10\n",
    "print(\"Su nombre es {} {}, tiene {} años y actualmente vive en {}.\".format(nombre, apellido, edad, ciudad))"
   ]
  }
 ],
 "metadata": {
  "kernelspec": {
   "display_name": "Python 3",
   "language": "python",
   "name": "python3"
  },
  "language_info": {
   "codemirror_mode": {
    "name": "ipython",
    "version": 3
   },
   "file_extension": ".py",
   "mimetype": "text/x-python",
   "name": "python",
   "nbconvert_exporter": "python",
   "pygments_lexer": "ipython3",
   "version": "3.8.5"
  }
 },
 "nbformat": 4,
 "nbformat_minor": 4
}
