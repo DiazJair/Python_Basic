{
 "cells": [
  {
   "cell_type": "code",
   "execution_count": 3,
   "metadata": {},
   "outputs": [
    {
     "name": "stdout",
     "output_type": "stream",
     "text": [
      "Introduce un numero real: -78\n",
      "El numero es negativo\n"
     ]
    }
   ],
   "source": [
    "## Ejercicio 1\n",
    "\n",
    "e1 = int(input(\"Introduce un numero real: \"))\n",
    "if e1 == 0:\n",
    "    print(\"El numero es cero\")\n",
    "elif e1 > 0:\n",
    "    print(\"El numero es positivo\")\n",
    "else:\n",
    "    print(\"El numero es negativo\")"
   ]
  },
  {
   "cell_type": "code",
   "execution_count": 11,
   "metadata": {},
   "outputs": [
    {
     "name": "stdout",
     "output_type": "stream",
     "text": [
      "Introduce tu nombre: Elizabeth ramirez\n",
      "Tu nombre tiene una longitud mayor a 10\n"
     ]
    }
   ],
   "source": [
    "## Ejercicio 2\n",
    "e2 = str(input(\"Introduce tu nombre: \"))\n",
    "if len(e2) > 10:\n",
    "    print(\"Tu nombre tiene una longitud mayor a 10\")\n",
    "else:\n",
    "    print(\"Tu nombre tiene una longitud normal\")"
   ]
  },
  {
   "cell_type": "code",
   "execution_count": 13,
   "metadata": {},
   "outputs": [
    {
     "name": "stdout",
     "output_type": "stream",
     "text": [
      "Introduce tu nombre: Jair\n",
      "Tu nombre tiene menos de 10 caracteres\n"
     ]
    }
   ],
   "source": [
    "## Ejercicio 3\n",
    "e3 = str(input(\"Introduce tu nombre: \"))\n",
    "print(\"Tu nombre tiene una longitud mayor a 10\") if len(e3) > 10 else print(\"Tu nombre tiene menos de 10 caracteres\")"
   ]
  },
  {
   "cell_type": "code",
   "execution_count": 20,
   "metadata": {},
   "outputs": [
    {
     "name": "stdout",
     "output_type": "stream",
     "text": [
      "Introduce un primer numero entero positivo: 20\n",
      "Introduce un segundo numero entero positivo: 4\n",
      "La divisón de 20 entre 4 da como resultado un entero y es 5.0.\n"
     ]
    }
   ],
   "source": [
    "## Ejercicio 5\n",
    "d1 = int(input(\"Introduce un primer numero entero positivo: \"))\n",
    "d2 = int(input(\"Introduce un segundo numero entero positivo: \"))\n",
    "if d1 >= d2:\n",
    "    resto = d1%d2\n",
    "    d4 = d1/d2\n",
    "    cociente = int(d1//d2)\n",
    "    if resto == 0:\n",
    "        print(\"La divisón de {} entre {} da como resultado un entero y es {}.\".format(d1,d2,d4))\n",
    "    else:\n",
    "        print(\"La division no es entera. El cociente es {}, y el resto es {}.\".format(cociente,resto))\n",
    "else:\n",
    "    print(\"El numero {} es mayor que el {} y no puedo realizar la division.\".format(d2,d1))\n",
    "    "
   ]
  },
  {
   "cell_type": "code",
   "execution_count": 24,
   "metadata": {},
   "outputs": [
    {
     "name": "stdout",
     "output_type": "stream",
     "text": [
      "Introduce un primer numero entero positivo: 9\n",
      "Introduce un segundo numero entero positivo: 1\n",
      "El primer numero es mayor.\n"
     ]
    }
   ],
   "source": [
    "## Ejercicio 4\n",
    "num1 = int(input(\"Introduce un primer numero entero positivo: \"))\n",
    "num2 = int(input(\"Introduce un segundo numero entero positivo: \"))\n",
    "if num1 >= num2:\n",
    "    if num1 > num2:\n",
    "        print(\"El primer numero es mayor.\")\n",
    "    else:\n",
    "        print(\"Los dos numeros son iguales.\")\n",
    "else:\n",
    "    print(\"El segundo numero es el mayor.\")"
   ]
  },
  {
   "cell_type": "code",
   "execution_count": 26,
   "metadata": {},
   "outputs": [
    {
     "name": "stdout",
     "output_type": "stream",
     "text": [
      "Introduce un primer numero entero positivo: 8\n",
      "Introduce un segundo numero entero positivo: 9\n",
      "El segundo numero es el mayor y no puedo realizar la división.\n"
     ]
    }
   ],
   "source": [
    "## Ejercicio 6.\n",
    "n1 = int(input(\"Introduce un primer numero entero positivo: \"))\n",
    "n2 = int(input(\"Introduce un segundo numero entero positivo: \"))\n",
    "if n1 >= n2:\n",
    "    if n1 > n2:\n",
    "        print(\"El primer numero es mayor.\")\n",
    "        div = n1/n2\n",
    "        resto = n1%n2\n",
    "        cociente = int(n1//n2)\n",
    "        if resto == 0:\n",
    "            print(\"La divisón de {} entre {} da como resultado un entero y es {}.\".format(n1,n2,div))\n",
    "        else:\n",
    "            print(\"La division no es entera. El cociente es {}, y el resto es {}.\".format(cociente,resto))\n",
    "    else:\n",
    "        print(\"Los dos numeros son iguales y la división da como resultado 1.\")\n",
    "else:\n",
    "    print(\"El segundo numero es el mayor y no puedo realizar la división.\")"
   ]
  },
  {
   "cell_type": "code",
   "execution_count": 30,
   "metadata": {},
   "outputs": [
    {
     "name": "stdout",
     "output_type": "stream",
     "text": [
      "Introduce un primer numero entero positivo: 2\n",
      "Introduce un segundo numero entero positivo: 5\n",
      "5 no es multiplo de 2.\n"
     ]
    }
   ],
   "source": [
    "## Ejercicio 7.\n",
    "n1 = int(input(\"Introduce un primer numero entero positivo: \"))\n",
    "n2 = int(input(\"Introduce un segundo numero entero positivo: \"))\n",
    "if n1 > n2:\n",
    "    resto = n1%n2\n",
    "    if resto == 0:\n",
    "        print(\"El numero {} es multiplo de {}.\".format(n1,n2))\n",
    "    else:\n",
    "        print(\"{} no es multiplo de {}.\".format(n1,n2))\n",
    "elif n1 < n2:\n",
    "    resto1 = n2%n1\n",
    "    if resto1 == 0:\n",
    "        print(\"El numero {} es multiplo de {}.\".format(n2,n1))\n",
    "    else:\n",
    "        print(\"{} no es multiplo de {}.\".format(n2,n1))\n",
    "else:\n",
    "    print(\"Los números son iguales.\")"
   ]
  },
  {
   "cell_type": "code",
   "execution_count": 32,
   "metadata": {},
   "outputs": [
    {
     "name": "stdout",
     "output_type": "stream",
     "text": [
      "Introduce una palabra: diana\n",
      "La primera letra no se encuentra en mayuscula\n"
     ]
    }
   ],
   "source": [
    "## Ejercicio 8.\n",
    "palabra = str(input(\"Introduce una palabra: \"))\n",
    "if palabra[0].isupper():\n",
    "    print(\"La primera letra se encuentra en mayuscula y es {}.\".format(palabra[0]))\n",
    "else:\n",
    "    print(\"La primera letra no se encuentra en mayuscula.\")"
   ]
  },
  {
   "cell_type": "code",
   "execution_count": 38,
   "metadata": {},
   "outputs": [
    {
     "name": "stdout",
     "output_type": "stream",
     "text": [
      "Introduce una letra: U\n",
      "La letra introducida es vocal.\n"
     ]
    }
   ],
   "source": [
    "## Ejercicio 9.\n",
    "letra = str(input(\"Introduce una letra: \"))\n",
    "lmin = letra.lower()\n",
    "vocales = (\"a\",\"e\",\"i\",\"o\",\"u\")\n",
    "if len(lmin) == 1:\n",
    "    if lmin in vocales:\n",
    "        print(\"La letra introducida es vocal.\")\n",
    "    else:\n",
    "        print(\"La letra introducida no es una vocal.\")\n",
    "else:\n",
    "    print(\"No puedo procesar el dato ya que el maximo de digitos debe ser 1\")"
   ]
  },
  {
   "cell_type": "code",
   "execution_count": 64,
   "metadata": {},
   "outputs": [
    {
     "name": "stdout",
     "output_type": "stream",
     "text": [
      "Se te pediran los valores de las variables a, b y c de una ecuacion de segundo grado.\n",
      "Introduce el valor de a: 5\n",
      "Introduce el valor de b: -20\n",
      "Introduce el valor de c: 15\n",
      "La ecuación es de 2do grado-Procesando\n",
      "Existen dos soluciones 3.0 y 1.0.\n",
      "El discriminante es: 100.0\n"
     ]
    }
   ],
   "source": [
    "## Ejercico 10\n",
    "import math ## Importando la libreria necesitada\n",
    "print(\"Se te pediran los valores de las variables a, b y c de una ecuacion de segundo grado.\")\n",
    "a = float(input(\"Introduce el valor de a: \"))\n",
    "b = float(input(\"Introduce el valor de b: \"))\n",
    "c = float(input(\"Introduce el valor de c: \"))\n",
    "\n",
    "if a != 0:\n",
    "    print(\"La ecuación es de 2do grado-Procesando\")\n",
    "    dis = b**2 - (4*a*c)\n",
    "    if dis == 0:\n",
    "        sol = ((-1*b) + math.sqrt(dis))/ (2*a)\n",
    "        print(\"Existe una solucion: {}\".format(sol))\n",
    "        print(\"El discriminante es: {}\".format(dis))\n",
    "    elif dis > 0:\n",
    "        sol1 = ((-1*b) + math.sqrt(dis))/ (2*a)\n",
    "        sol2 = ((-1*b) - math.sqrt(dis))/ (2*a)\n",
    "        print(\"Existen dos soluciones {} y {}.\".format(sol1,sol2))\n",
    "        print(\"El discriminante es: {}\".format(dis))\n",
    "    else:\n",
    "        print(\"No existe solucion dentro del conjunto de los numero reales para esta ecuación de segundo grado.\")\n",
    "else:\n",
    "    print(\"La ecuación no es de 2do grado. Fin del calculo\")"
   ]
  },
  {
   "cell_type": "code",
   "execution_count": null,
   "metadata": {},
   "outputs": [],
   "source": []
  }
 ],
 "metadata": {
  "kernelspec": {
   "display_name": "Python 3",
   "language": "python",
   "name": "python3"
  },
  "language_info": {
   "codemirror_mode": {
    "name": "ipython",
    "version": 3
   },
   "file_extension": ".py",
   "mimetype": "text/x-python",
   "name": "python",
   "nbconvert_exporter": "python",
   "pygments_lexer": "ipython3",
   "version": "3.8.5"
  }
 },
 "nbformat": 4,
 "nbformat_minor": 4
}
