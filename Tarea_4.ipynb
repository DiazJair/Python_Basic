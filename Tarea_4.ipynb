{
 "cells": [
  {
   "cell_type": "code",
   "execution_count": 2,
   "metadata": {},
   "outputs": [
    {
     "name": "stdout",
     "output_type": "stream",
     "text": [
      "Introduce un número entero: 5\n",
      "El numero introducido es impar.\n",
      "Introduce un número entero: 10\n",
      "El número introducidao es par.\n",
      "Introduce un número entero: 100\n",
      "El número introducidao es par.\n",
      "Introduce un número entero: 0\n",
      "Has introducido el número 0, el programa se cerrara.\n"
     ]
    }
   ],
   "source": [
    "# Haz que el usuario introduzca números enteros por teclado. Mientras el usuario no introduzca el 0, muestra si el número introducido es par o impar.\n",
    "\n",
    "num = int(input(\"Introduce un número entero: \"))\n",
    "while num != 0:\n",
    "    if num%2 == 0:\n",
    "        print(\"El número introducido es par.\")\n",
    "    else:\n",
    "        print(\"El numero introducido es impar.\")\n",
    "    num = int(input(\"Introduce un número entero: \"))\n",
    "else:\n",
    "    print(\"Has introducido el número 0, el programa se cerrara.\")\n",
    "\n"
   ]
  },
  {
   "cell_type": "code",
   "execution_count": 5,
   "metadata": {},
   "outputs": [
    {
     "name": "stdout",
     "output_type": "stream",
     "text": [
      "Introduce una letra: z\n",
      "Intoduce una palabra: anita lava la tina\n",
      "La palabra no contiene la letra.\n"
     ]
    }
   ],
   "source": [
    "## Haz que el usuario introduzca una palabra y una letra por teclado. Comprueba si la palabra contiene la letra o no e indícaselo al usuario por pantalla.\n",
    "\n",
    "letra = str(input(\"Introduce una letra: \"))\n",
    "palabra = str(input(\"Intoduce una palabra: \"))\n",
    "palabra = palabra.lower()\n",
    "letra = letra.lower()\n",
    "for c in palabra:\n",
    "    if c == letra:\n",
    "        print(\"La palabra si contiene la letra.\")\n",
    "        break\n",
    "else:\n",
    "    print(\"La palabra no contiene la letra.\")\n",
    "    "
   ]
  },
  {
   "cell_type": "code",
   "execution_count": 10,
   "metadata": {},
   "outputs": [
    {
     "name": "stdout",
     "output_type": "stream",
     "text": [
      "Introduce el precio del artículo: 15\n",
      "Introduce el precio del artículo: 15\n",
      "Introduce el precio del artículo: 100\n",
      "Introduce el precio del artículo: 100\n",
      "El presupuesto se ha rebasado. No se pueden introducir más precios.\n"
     ]
    }
   ],
   "source": [
    "## Haz que el usuario introduzca precios por teclado (si introduce 0, entonces es que ha finalizado). Si el usuario pasa de 200€, entonces ya no debe poder introducir más precios pues se ha pasado de presupuesto. Sea cual sea el resultado (o bien el precio final o bien que no tiene más presupuesto), indícaselo por pantalla al usuario.\n",
    "\n",
    "\n",
    "sumas = float()\n",
    "while sumas <= 200:\n",
    "    precio = float(input(\"Introduce el precio del artículo: \"))\n",
    "    if precio <= 0:\n",
    "        print(\"La suma se detendra.\")\n",
    "        print(\"El precio total es: {}\".format(sumas))\n",
    "        break\n",
    "    else:\n",
    "        sumas = sumas + precio\n",
    "        \n",
    "else:\n",
    "    print(\"El presupuesto se ha rebasado. No se pueden introducir más precios.\")"
   ]
  },
  {
   "cell_type": "code",
   "execution_count": 11,
   "metadata": {},
   "outputs": [
    {
     "name": "stdout",
     "output_type": "stream",
     "text": [
      "Introduce un numero: 5\n",
      "Introduce un numero: -5\n",
      "Introduce un numero: 10\n",
      "Introduce un numero: -3\n",
      "Introduce un numero: 0\n",
      "Los numeros positivos fueron: 2 y los negativos 2\n"
     ]
    }
   ],
   "source": [
    "neg = 0\n",
    "pos = 0\n",
    "count = 0\n",
    "while count <= 1000:\n",
    "    num = float(input(\"Introduce un numero: \"))\n",
    "    count += 1\n",
    "    if num < 0:\n",
    "        neg += 1\n",
    "    elif num > 0:\n",
    "        pos += 1\n",
    "    else:\n",
    "        print(\"Los numeros positivos fueron: {} y los negativos {}\". format(pos,neg))\n",
    "        break\n",
    "    "
   ]
  },
  {
   "cell_type": "code",
   "execution_count": 13,
   "metadata": {},
   "outputs": [
    {
     "name": "stdout",
     "output_type": "stream",
     "text": [
      "Introduce un numero: 5\n",
      "Introduce un numero: 10\n",
      "Introduce un numero: 15\n",
      "Introduce un numero: 2\n",
      "Introduce un numero: 3\n",
      "Introduce un numero: 0\n",
      "Has introducido el 0. La cuenta se detendra.\n",
      "La media arimertica de los numeros es 7.0.\n"
     ]
    }
   ],
   "source": [
    "nums = 0\n",
    "count = 0\n",
    "\n",
    "while count <= 10000:\n",
    "    n1 = float(input(\"Introduce un numero: \"))\n",
    "    if n1 != 0:\n",
    "        nums += n1\n",
    "        count += 1\n",
    "    else:\n",
    "        media = nums/count\n",
    "        print(\"Has introducido el 0. La cuenta se detendra.\")\n",
    "        print(\"La media arimertica de los numeros es {}.\".format(media))\n",
    "        break\n",
    "else:\n",
    "    print(\"Has sobrepasado los 10000 numeros. El programa se cerrará.\")\n",
    "    \n",
    "\n"
   ]
  },
  {
   "cell_type": "code",
   "execution_count": 16,
   "metadata": {},
   "outputs": [
    {
     "name": "stdout",
     "output_type": "stream",
     "text": [
      "Introduce el extremo inferior: 1\n",
      "Introduce el extremo superior: 10\n",
      "1 2 3 4 5 6 7 8 9 10 "
     ]
    }
   ],
   "source": [
    "inf = int(input(\"Introduce el extremo inferior: \"))\n",
    "sup = int(input(\"Introduce el extremo superior: \"))\n",
    "\n",
    "for s in range (inf, sup+1, 1):\n",
    "    print(s, end=\" \")\n"
   ]
  },
  {
   "cell_type": "code",
   "execution_count": 17,
   "metadata": {},
   "outputs": [
    {
     "name": "stdout",
     "output_type": "stream",
     "text": [
      "Introduce el extremo izquierdo: 1\n",
      "Introduce el extremo derecho: 10\n",
      "3 6 9 "
     ]
    }
   ],
   "source": [
    "inf = int(input(\"Introduce el extremo izquierdo: \"))\n",
    "sup = int(input(\"Introduce el extremo derecho: \"))\n",
    "\n",
    "for s in range (inf, sup+1, 1):\n",
    "    if s%3 == 0:\n",
    "        print(s, end=\" \")\n"
   ]
  },
  {
   "cell_type": "code",
   "execution_count": 22,
   "metadata": {},
   "outputs": [
    {
     "name": "stdout",
     "output_type": "stream",
     "text": [
      "¿Cuantos números vas a introducir?: 3\n",
      "Introduce un número a multiplicar: 10\n",
      "Introduce un número a multiplicar: 10\n",
      "Introduce un número a multiplicar: 10\n",
      "El producto de los números introducidos es: 1000\n"
     ]
    }
   ],
   "source": [
    "intro = int(input(\"¿Cuantos números vas a introducir?: \"))\n",
    "count = 1\n",
    "producto = 1\n",
    "while count <= intro:\n",
    "    n = int(input(\"Introduce un número a multiplicar: \"))\n",
    "    producto *= n\n",
    "    count += 1\n",
    "else:\n",
    "    print(\"El producto de los números introducidos es: {}\".format(producto))"
   ]
  },
  {
   "cell_type": "code",
   "execution_count": 23,
   "metadata": {},
   "outputs": [
    {
     "name": "stdout",
     "output_type": "stream",
     "text": [
      "¿Cuantos números vas a introducir?: 5\n",
      "Introduce un número a multiplicar: 5\n",
      "Introduce un número a multiplicar: 2\n",
      "Introduce un número a multiplicar: 1\n",
      "Introduce un número a multiplicar: 3\n",
      "Introduce un número a multiplicar: 6\n",
      "El producto de los números introducidos es: 180\n"
     ]
    }
   ],
   "source": [
    "intro = int(input(\"¿Cuantos números vas a introducir?: \"))\n",
    "producto = 1\n",
    "\n",
    "for i in range(intro):\n",
    "    n = int(input(\"Introduce un número a multiplicar: \"))\n",
    "    producto *= n\n",
    "print(\"El producto de los números introducidos es: {}\".format(producto))"
   ]
  },
  {
   "cell_type": "code",
   "execution_count": 25,
   "metadata": {},
   "outputs": [
    {
     "name": "stdout",
     "output_type": "stream",
     "text": [
      "Introduce tu edad: 26\n",
      "Introduce el año actual: 2021\n",
      "1995 1996 1997 1998 1999 2000 2001 2002 2003 2004 2005 2006 2007 2008 2009 2010 2011 2012 2013 2014 2015 2016 2017 2018 2019 2020 2021 "
     ]
    }
   ],
   "source": [
    "age = int(input(\"Introduce tu edad: \"))\n",
    "year = int(input(\"Introduce el año actual: \"))\n",
    "n_year = year - age\n",
    "for n in range(n_year,year+1,1):\n",
    "    print(n, end=\" \")\n"
   ]
  },
  {
   "cell_type": "code",
   "execution_count": 30,
   "metadata": {},
   "outputs": [
    {
     "name": "stdout",
     "output_type": "stream",
     "text": [
      "Introduce la altura de las figuras: 5\n",
      "*                    * * * * * \n",
      "* *                  * * * * * \n",
      "* * *                * * * * * \n",
      "* * * *              * * * * * \n",
      "* * * * *            * * * * * \n"
     ]
    }
   ],
   "source": [
    "h = int(input(\"Introduce la altura de las figuras: \"))\n",
    "for i in range(h):\n",
    "    print(\"* \" * (i + 1) + \" \" * (20 - (2 * i + 2) + 1) + \"* \" * h)"
   ]
  },
  {
   "cell_type": "code",
   "execution_count": null,
   "metadata": {},
   "outputs": [],
   "source": []
  }
 ],
 "metadata": {
  "kernelspec": {
   "display_name": "Python 3",
   "language": "python",
   "name": "python3"
  },
  "language_info": {
   "codemirror_mode": {
    "name": "ipython",
    "version": 3
   },
   "file_extension": ".py",
   "mimetype": "text/x-python",
   "name": "python",
   "nbconvert_exporter": "python",
   "pygments_lexer": "ipython3",
   "version": "3.8.5"
  }
 },
 "nbformat": 4,
 "nbformat_minor": 4
}
