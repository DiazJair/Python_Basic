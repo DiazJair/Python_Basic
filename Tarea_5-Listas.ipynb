{
 "cells": [
  {
   "cell_type": "code",
   "execution_count": 3,
   "metadata": {},
   "outputs": [
    {
     "name": "stdout",
     "output_type": "stream",
     "text": [
      "Introduce una secuencia de caracteres: 12345\n",
      "['5', '4', '3', '2', '1']\n"
     ]
    }
   ],
   "source": [
    "## Ejercicio 1\n",
    "\n",
    "lista1 = []\n",
    "a = (input(\"Introduce una secuencia de caracteres: \"))\n",
    "for e in a:\n",
    "    lista1.append(e)\n",
    "lista1.reverse()\n",
    "print(lista1)\n"
   ]
  },
  {
   "cell_type": "code",
   "execution_count": 4,
   "metadata": {},
   "outputs": [
    {
     "name": "stdout",
     "output_type": "stream",
     "text": [
      "Introduce el string 1: hola\n",
      "Introduce el string 2: bais\n",
      "hboalias"
     ]
    }
   ],
   "source": [
    "## Ejercicio 2\n",
    "s1 = input(\"Introduce el string 1: \")\n",
    "s2 = input(\"Introduce el string 2: \")\n",
    "l2 = []\n",
    "if len(s1) == len(s2):\n",
    "    for e in range(len(s1)):\n",
    "        l2.append(s1[e])\n",
    "        l2.append(s2[e])\n",
    "else:\n",
    "    print(\"Los strings no tienen la misma longitud\")\n",
    "\n",
    "for i in l2:\n",
    "    print(i, end = \"\")\n",
    "        "
   ]
  },
  {
   "cell_type": "code",
   "execution_count": 2,
   "metadata": {},
   "outputs": [
    {
     "name": "stdout",
     "output_type": "stream",
     "text": [
      "Introduce un string: hola\n",
      "['h', 'l']\n"
     ]
    }
   ],
   "source": [
    "## Ejercicio 3\n",
    "e3s = str(input(\"Introduce un string: \"))\n",
    "e3s = e3s.lower()\n",
    "e3cons = []\n",
    "vocals =[\"a\",\"e\",\"i\",\"o\",\"u\"]\n",
    "\n",
    "for e in e3s:\n",
    "    if e != \"a\" and e != \"e\" and e != \"i\" and e != \"o\" and e != \"u\" and e != \" \":\n",
    "        e3cons.append(e)\n",
    "print(e3cons)\n",
    "        \n",
    "    "
   ]
  },
  {
   "cell_type": "code",
   "execution_count": 6,
   "metadata": {},
   "outputs": [
    {
     "name": "stdout",
     "output_type": "stream",
     "text": [
      "Introduce una palabra: hola\n",
      "No es un palindromo.\n"
     ]
    }
   ],
   "source": [
    "## Ejercicio 4\n",
    "e4 = str(input(\"Introduce una palabra: \"))\n",
    "l4 = []\n",
    "for e in e4:\n",
    "    l4.append(e)\n",
    "if l4 == l4[::-1]:\n",
    "    print(\"La palabra es un palindromo.\")\n",
    "else:\n",
    "    print(\"No es un palindromo.\")"
   ]
  },
  {
   "cell_type": "code",
   "execution_count": 8,
   "metadata": {},
   "outputs": [
    {
     "name": "stdout",
     "output_type": "stream",
     "text": [
      "Introduce el elemento (0,0)1\n",
      "Introduce el elemento (0,1)2\n",
      "Introduce el elemento (0,2)3\n",
      "Introduce el elemento (1,0)4\n",
      "Introduce el elemento (1,1)5\n",
      "Introduce el elemento (1,2)6\n",
      "Introduce el elemento (2,0)7\n",
      "Introduce el elemento (2,1)8\n",
      "Introduce el elemento (2,2)9\n",
      "[[1.0, 2.0, 3.0], [4.0, 5.0, 6.0], [7.0, 8.0, 9.0]]\n",
      "El maximo de la fila es 0 es 3.0.\n",
      "El maximo de la fila es 1 es 6.0.\n",
      "El maximo de la fila es 2 es 9.0.\n"
     ]
    }
   ],
   "source": [
    "## Ejercicio 5\n",
    "import numpy as np\n",
    "e5 = []\n",
    "for i in range(3):\n",
    "    e5.append([])\n",
    "    for j in range(3):\n",
    "        e5[i].append(float(input(\"Introduce el elemento ({},{})\".format(i,j))))\n",
    "print(e5)\n",
    "\n",
    "for i in range(3):\n",
    "    e5[i].sort(reverse = True)\n",
    "    print(\"El maximo de la fila es {} es {}.\".format(i, e5[i][0]))"
   ]
  },
  {
   "cell_type": "code",
   "execution_count": 15,
   "metadata": {},
   "outputs": [
    {
     "name": "stdout",
     "output_type": "stream",
     "text": [
      "Introduce un entero: 5\n",
      "[0, 1, 2, 3, 4]\n",
      "[5, 6, 7, 8, 9]\n",
      "[10, 11, 12, 13, 14]\n",
      "[15, 16, 17, 18, 19]\n",
      "[20, 21, 22, 23, 24]\n"
     ]
    }
   ],
   "source": [
    "## Ejercicio 6\n",
    "e6 = int(input(\"Introduce un entero: \"))\n",
    "e6m = []\n",
    "\n",
    "for i in range(e6):\n",
    "    e6m.append([])\n",
    "    for j in range(e6):\n",
    "        e6m[i].append(e6 * i + j)\n",
    "\n",
    "for i in range(e6):\n",
    "    print(e6m[i])"
   ]
  },
  {
   "cell_type": "code",
   "execution_count": 37,
   "metadata": {},
   "outputs": [
    {
     "name": "stdout",
     "output_type": "stream",
     "text": [
      "Introduce el numero de filas: 2\n",
      "Introduce el numero de columnas: 2\n",
      "Introduce el elemento (0,0)1\n",
      "Introduce el elemento (0,1)1\n",
      "Introduce el elemento (1,0)1\n",
      "Introduce el elemento (1,1)1\n",
      "[1.0, 1.0]\n",
      "[1.0, 1.0]\n",
      "Las sumas de las columnas es igual.\n",
      "True\n",
      "[2.0, 2.0]\n"
     ]
    }
   ],
   "source": [
    "## Ejercicio 7\n",
    "import numpy as np\n",
    "filas = int(input(\"Introduce el numero de filas: \"))\n",
    "col = int(input(\"Introduce el numero de columnas: \"))\n",
    "\n",
    "e7 = []\n",
    "\n",
    "for i in range(filas):\n",
    "    e7.append([])\n",
    "    for j in range(col):\n",
    "        e7[i].append(float(input(\"Introduce el elemento ({},{})\".format(i,j))))\n",
    "for i in e7:\n",
    "    print(i)\n",
    "\n",
    "sumas = []    \n",
    "for j in range(col):\n",
    "    suma = 0\n",
    "    for i in range(filas):\n",
    "        suma += e7[i][j]\n",
    "    sumas.append(suma)\n",
    "\n",
    "sumiguales = True\n",
    "for i in range(col - 1):\n",
    "    if sumas[i] != sumas[i-1]:\n",
    "        sumiguales = False\n",
    "\n",
    "if sumiguales == False:\n",
    "    print(\"Las sumas de las columnas es distinta\")\n",
    "else:\n",
    "    print(\"Las sumas de las columnas es igual.\")\n",
    "    \n",
    "print(sumiguales)\n",
    "print(sumas)"
   ]
  },
  {
   "cell_type": "code",
   "execution_count": 47,
   "metadata": {},
   "outputs": [
    {
     "name": "stdout",
     "output_type": "stream",
     "text": [
      "Introduce el numero de filas: 2\n",
      "Introduce el numero de columnas: 2\n",
      "Introduce el elemento (0,0)1\n",
      "Introduce el elemento (0,1)0\n",
      "Introduce el elemento (1,0)0\n",
      "Introduce el elemento (1,1)1\n",
      "[1.0, 0.0]\n",
      "[0.0, 1.0]\n",
      "La matriz es una matriz identidad!\n"
     ]
    }
   ],
   "source": [
    "## Ejercicio 8\n",
    "import numpy as np\n",
    "filas = int(input(\"Introduce el numero de filas: \"))\n",
    "col = int(input(\"Introduce el numero de columnas: \"))\n",
    "\n",
    "e8 = []\n",
    "e8_iden = np.identity(col)\n",
    "for i in range(filas):\n",
    "    e8.append([])\n",
    "    for j in range(col):\n",
    "        e8[i].append(float(input(\"Introduce el elemento ({},{})\".format(i,j))))\n",
    "for i in e8:\n",
    "    print(i)\n",
    "    \n",
    "if filas == col:\n",
    "    if (e8 == e8_iden).all():\n",
    "        print(\"La matriz es una matriz identidad!\")\n",
    "    else:\n",
    "        print(\"La matriz introducida no es una matriz identidad.\")\n",
    "else:\n",
    "    print(\"La matriz introducida no es cuadrada.\")"
   ]
  },
  {
   "cell_type": "code",
   "execution_count": 52,
   "metadata": {},
   "outputs": [
    {
     "name": "stdout",
     "output_type": "stream",
     "text": [
      "Introduce el numero de filas: 2\n",
      "Introduce el numero de columnas: 2\n",
      "Introduce el elemento (0,0)5\n",
      "Introduce el elemento (0,1)4\n",
      "Introduce el elemento (1,0)6\n",
      "Introduce el elemento (1,1)2\n",
      "[5.0, 4.0]\n",
      "[6.0, 2.0]\n",
      "La matriz transpuesta es: \t\n",
      "[5. 6.]\n",
      "[4. 2.]\n"
     ]
    }
   ],
   "source": [
    "## Ejercicio 9\n",
    "import numpy as np\n",
    "filas = int(input(\"Introduce el numero de filas: \"))\n",
    "col = int(input(\"Introduce el numero de columnas: \"))\n",
    "\n",
    "e9 = []\n",
    "e9_iden = np.identity(col)\n",
    "for i in range(filas):\n",
    "    e9.append([])\n",
    "    for j in range(col):\n",
    "        e9[i].append(float(input(\"Introduce el elemento ({},{})\".format(i,j))))\n",
    "for i in e9:\n",
    "    print(i)\n",
    "\n",
    "print(\"La matriz transpuesta es: \\t\")    \n",
    "e9_t = np.transpose(e9)\n",
    "for i in e9_t:\n",
    "    print(i)"
   ]
  },
  {
   "cell_type": "code",
   "execution_count": 53,
   "metadata": {},
   "outputs": [
    {
     "name": "stdout",
     "output_type": "stream",
     "text": [
      "Introduce la dimension de la matriz identidad a construir: 5\n",
      "[1. 0. 0. 0. 0.]\n",
      "[0. 1. 0. 0. 0.]\n",
      "[0. 0. 1. 0. 0.]\n",
      "[0. 0. 0. 1. 0.]\n",
      "[0. 0. 0. 0. 1.]\n"
     ]
    }
   ],
   "source": [
    "## Ejercicio 10\n",
    "import numpy as np\n",
    "dim = int(input(\"Introduce la dimension de la matriz identidad a construir: \"))\n",
    "e10 = np.identity(dim)\n",
    "\n",
    "for i in e10:\n",
    "    print(i)"
   ]
  },
  {
   "cell_type": "code",
   "execution_count": null,
   "metadata": {},
   "outputs": [],
   "source": []
  }
 ],
 "metadata": {
  "kernelspec": {
   "display_name": "Python 3",
   "language": "python",
   "name": "python3"
  },
  "language_info": {
   "codemirror_mode": {
    "name": "ipython",
    "version": 3
   },
   "file_extension": ".py",
   "mimetype": "text/x-python",
   "name": "python",
   "nbconvert_exporter": "python",
   "pygments_lexer": "ipython3",
   "version": "3.8.5"
  }
 },
 "nbformat": 4,
 "nbformat_minor": 4
}
