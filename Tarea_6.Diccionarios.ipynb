{
 "cells": [
  {
   "cell_type": "code",
   "execution_count": 3,
   "metadata": {},
   "outputs": [
    {
     "name": "stdout",
     "output_type": "stream",
     "text": [
      "Introduce un número positivo.5\n",
      "{1: 1, 2: 8, 3: 27, 4: 64, 5: 125}\n"
     ]
    }
   ],
   "source": [
    "## Ejercicio 1.\n",
    "e1 = int(input(\"Introduce un número positivo.\"))\n",
    "dicc = {}\n",
    "if e1 > 0:\n",
    "    for i in range(1, e1+1, 1):\n",
    "        dicc[i] = i**3\n",
    "print(dicc)\n",
    "    \n"
   ]
  },
  {
   "cell_type": "code",
   "execution_count": 7,
   "metadata": {},
   "outputs": [
    {
     "name": "stdout",
     "output_type": "stream",
     "text": [
      "Introduce tu nombre: jair\n",
      "Introduce tu edad: 85\n",
      "Introduce tu numero telefonico: 54654321\n",
      "jair tiene 85 años y su número de teléfono es 54654321.\n"
     ]
    }
   ],
   "source": [
    "## Ejercicio 2.\n",
    "dicc2 = {}\n",
    "dicc2[\"name\"] = input(\"Introduce tu nombre: \")\n",
    "dicc2[\"age\"] = input(\"Introduce tu edad: \")\n",
    "dicc2[\"phone\"] = input(\"Introduce tu numero telefonico: \")\n",
    "\n",
    "print(\"{} tiene {} años y su número de teléfono es {}.\".format(dicc2[\"name\"], dicc2[\"age\"], dicc2[\"phone\"]))"
   ]
  },
  {
   "cell_type": "code",
   "execution_count": 50,
   "metadata": {},
   "outputs": [
    {
     "name": "stdout",
     "output_type": "stream",
     "text": [
      "Introduce los objetos a comprar. Para terminar la lista escribe 0.Sal\n",
      "Introduce el precio del artículo: 25\n",
      "Introduce los objetos a comprar: \n",
      "Introduce el precio del artículo: Azucar\n"
     ]
    },
    {
     "ename": "ValueError",
     "evalue": "could not convert string to float: 'Azucar'",
     "output_type": "error",
     "traceback": [
      "\u001b[0;31m---------------------------------------------------------------------------\u001b[0m",
      "\u001b[0;31mValueError\u001b[0m                                Traceback (most recent call last)",
      "\u001b[0;32m<ipython-input-50-74a4667aafd2>\u001b[0m in \u001b[0;36m<module>\u001b[0;34m\u001b[0m\n\u001b[1;32m      4\u001b[0m \u001b[0;34m\u001b[0m\u001b[0m\n\u001b[1;32m      5\u001b[0m \u001b[0;32mwhile\u001b[0m \u001b[0mkey\u001b[0m \u001b[0;34m!=\u001b[0m \u001b[0;34m\"0\"\u001b[0m\u001b[0;34m:\u001b[0m\u001b[0;34m\u001b[0m\u001b[0;34m\u001b[0m\u001b[0m\n\u001b[0;32m----> 6\u001b[0;31m     \u001b[0mdicc3\u001b[0m\u001b[0;34m[\u001b[0m\u001b[0mkey\u001b[0m\u001b[0;34m]\u001b[0m \u001b[0;34m=\u001b[0m \u001b[0mfloat\u001b[0m\u001b[0;34m(\u001b[0m\u001b[0minput\u001b[0m\u001b[0;34m(\u001b[0m\u001b[0;34m\"Introduce el precio del artículo: \"\u001b[0m\u001b[0;34m)\u001b[0m\u001b[0;34m)\u001b[0m\u001b[0;34m\u001b[0m\u001b[0;34m\u001b[0m\u001b[0m\n\u001b[0m\u001b[1;32m      7\u001b[0m     \u001b[0mkey\u001b[0m \u001b[0;34m=\u001b[0m \u001b[0mstr\u001b[0m\u001b[0;34m(\u001b[0m\u001b[0minput\u001b[0m\u001b[0;34m(\u001b[0m\u001b[0;34m\"Introduce los objetos a comprar: \"\u001b[0m\u001b[0;34m)\u001b[0m\u001b[0;34m)\u001b[0m\u001b[0;34m\u001b[0m\u001b[0;34m\u001b[0m\u001b[0m\n\u001b[1;32m      8\u001b[0m \u001b[0;34m\u001b[0m\u001b[0m\n",
      "\u001b[0;31mValueError\u001b[0m: could not convert string to float: 'Azucar'"
     ]
    }
   ],
   "source": [
    "## Ejercicio 3.\n",
    "dicc3 = {}\n",
    "key = str(input(\"Introduce los objetos a comprar. Para terminar la lista escribe 0.\"))\n",
    "\n",
    "while key != \"0\":\n",
    "    dicc3[key] = float(input(\"Introduce el precio del artículo: \"))\n",
    "    key = str(input(\"Introduce los objetos a comprar: \"))\n",
    "\n",
    "\n",
    "for key, val in dicc3.items():\n",
    "    print(key, \"  $\", val)"
   ]
  },
  {
   "cell_type": "code",
   "execution_count": 56,
   "metadata": {},
   "outputs": [
    {
     "name": "stdout",
     "output_type": "stream",
     "text": [
      "Introduce numeros enteros: 5\n",
      "Introduce numeros enteros: 15\n",
      "Introduce numeros enteros: 20\n",
      "Introduce numeros enteros: 35\n",
      "Introduce numeros enteros: 45\n",
      "Introduce numeros enteros: 35\n",
      "Introduce numeros enteros: 4\n",
      "Introduce numeros enteros: 4\n",
      "Introduce numeros enteros: 2\n",
      "Introduce numeros enteros: 3\n",
      "Introduce numeros enteros: 0\n",
      "pares   4\n",
      "impares   6\n"
     ]
    }
   ],
   "source": [
    "## Ejercicio 5\n",
    "dicc5 = {\"pares\":0, \"impares\":0}\n",
    "pares = 0\n",
    "impares = 0\n",
    "e5 = int(input(\"Introduce numeros enteros: \"))\n",
    "while e5 != 0:\n",
    "    if e5%2 == 0:\n",
    "        pares += 1\n",
    "    else:\n",
    "        impares += 1\n",
    "    e5 = int(input(\"Introduce numeros enteros: \"))\n",
    "dicc5[\"pares\"] = pares\n",
    "dicc5[\"impares\"] = impares\n",
    "\n",
    "for key, val in dicc5.items():\n",
    "    print(key, \" \", val)"
   ]
  },
  {
   "cell_type": "code",
   "execution_count": 57,
   "metadata": {},
   "outputs": [
    {
     "name": "stdout",
     "output_type": "stream",
     "text": [
      "Introduce numeros enteros: 5\n",
      "Introduce numeros enteros: -2\n",
      "Introduce numeros enteros: -6\n",
      "Introduce numeros enteros: -8\n",
      "Introduce numeros enteros: 6\n",
      "Introduce numeros enteros: 0\n",
      "Positivos   2\n",
      "Negativos   3\n"
     ]
    }
   ],
   "source": [
    "## Ejercicio 4\n",
    "\n",
    "dicc4 = {\"Positivos\":0, \"Negativos\":0}\n",
    "pos = 0\n",
    "neg = 0\n",
    "e4 = int(input(\"Introduce numeros enteros: \"))\n",
    "while e4 != 0:\n",
    "    if e4 < 0:\n",
    "        neg += 1\n",
    "    else:\n",
    "        pos += 1\n",
    "    e4 = int(input(\"Introduce numeros enteros: \"))\n",
    "\n",
    "dicc4[\"Positivos\"] = pos\n",
    "dicc4[\"Negativos\"] = neg\n",
    "\n",
    "for key, val in dicc4.items():\n",
    "    print(key, \" \", val)"
   ]
  },
  {
   "cell_type": "code",
   "execution_count": 15,
   "metadata": {},
   "outputs": [
    {
     "name": "stdout",
     "output_type": "stream",
     "text": [
      "Nombre del alumno: L\n",
      "Introduce las calificaciones\n",
      "5\n",
      "10\n",
      "0\n",
      "-2\n",
      "Nombre del alumnoBB\n",
      "Introduce las calificaciones\n",
      "2\n",
      "5\n",
      "8\n",
      "-2\n",
      "Nombre del alumno\n",
      "L = 5.0\n",
      "BB = 5.0\n"
     ]
    }
   ],
   "source": [
    "## Ejercicio 6\n",
    "dic6 = {}\n",
    "e6 = str(input(\"Nombre del alumno: \"))\n",
    "\n",
    "while e6 != \"\":\n",
    "    dic6[e6] = []\n",
    "    print(\"Introduce las calificaciones\")\n",
    "    cal1 = int(input())\n",
    "    while cal1 >= 0:\n",
    "        dic6[e6].append(cal1)\n",
    "        cal1 = int(input())\n",
    "    e6 = str(input(\"Nombre del alumno\"))\n",
    "         \n",
    "for e6 in dic6:\n",
    "    print(e6, \"=\", sum(dic6[e6])/len(dic6[e6]))"
   ]
  },
  {
   "cell_type": "code",
   "execution_count": 16,
   "metadata": {},
   "outputs": [
    {
     "name": "stdout",
     "output_type": "stream",
     "text": [
      "Introduce un numero entero positivo: 5\n",
      "{1: '*', 2: '**', 3: '***', 4: '****', 5: '*****'}\n"
     ]
    }
   ],
   "source": [
    "## Ejercicio 7\n",
    "e7 = int(input(\"Introduce un numero entero positivo: \"))\n",
    "dic7 = {}\n",
    "for key in range(1,e7+1):\n",
    "    dic7[key] = \"*\"*key\n",
    "print(dic7)\n"
   ]
  },
  {
   "cell_type": "code",
   "execution_count": 24,
   "metadata": {},
   "outputs": [
    {
     "name": "stdout",
     "output_type": "stream",
     "text": [
      "Introduce el numero de palabras: 2\n",
      "Introduce la palabra: hola\n",
      "Introduce la palabra: sol\n",
      "Introduce la palabra: luna\n",
      "{'hola': 4, 'sol': 3}\n"
     ]
    }
   ],
   "source": [
    "## Ejercicio 8\n",
    "dic8 = {}\n",
    "e8 = int(input(\"Introduce el numero de palabras: \"))\n",
    "count = 0\n",
    "palabra = str(input(\"Introduce la palabra: \"))\n",
    "while count < e8:\n",
    "    dic8[palabra] = []\n",
    "    dic8[palabra] = len(palabra)\n",
    "    palabra = str(input(\"Introduce la palabra: \"))\n",
    "    count += 1\n",
    "print(dic8)\n",
    "\n"
   ]
  },
  {
   "cell_type": "code",
   "execution_count": 26,
   "metadata": {},
   "outputs": [
    {
     "name": "stdout",
     "output_type": "stream",
     "text": [
      "Introduce el numero de palabras a introducir: 2\n",
      "Palabra: gato\n",
      "Palabra: perro\n",
      "{'gato': 2, 'perro': 2}\n"
     ]
    }
   ],
   "source": [
    "## Ejercicio 9\n",
    "e9 = int(input(\"Introduce el numero de palabras a introducir: \"))\n",
    "vocals = [\"a\",\"e\",\"i\",\"o\",\"u\"]\n",
    "dic9 = {}\n",
    "\n",
    "for _ in range(e9):\n",
    "    pal = input(\"Palabra: \")\n",
    "    pal = pal.lower()\n",
    "    count = 0\n",
    "    for c in pal:\n",
    "        if c in vocals:\n",
    "            count += 1\n",
    "    dic9[pal] = count\n",
    "\n",
    "print(dic9)"
   ]
  },
  {
   "cell_type": "code",
   "execution_count": 34,
   "metadata": {},
   "outputs": [
    {
     "name": "stdout",
     "output_type": "stream",
     "text": [
      "Introduce un entero: 5\n",
      "[0, 1, 2, 3, 4]\n",
      "[5, 6, 7, 8, 9]\n",
      "[10, 11, 12, 13, 14]\n",
      "[15, 16, 17, 18, 19]\n",
      "[20, 21, 22, 23, 24]\n",
      "\n",
      "\n",
      "{'Filas': 5, 'Columnas': 5, 'Datos 0': [0, 1, 2, 3, 4], 'Datos 1': [5, 6, 7, 8, 9], 'Datos 2': [10, 11, 12, 13, 14], 'Datos 3': [15, 16, 17, 18, 19], 'Datos 4': [20, 21, 22, 23, 24]}\n"
     ]
    }
   ],
   "source": [
    "## Ejercicio 10.\n",
    "e6 = int(input(\"Introduce un entero: \"))\n",
    "e6m = []\n",
    "\n",
    "for i in range(e6):\n",
    "    e6m.append([])\n",
    "    for j in range(e6):\n",
    "        e6m[i].append(e6 * i + j)\n",
    "\n",
    "for i in range(e6):\n",
    "    print(e6m[i])\n",
    "    \n",
    "dic10 = {}\n",
    "dic10[\"Filas\"] = len(e6m)\n",
    "dic10[\"Columnas\"] = len(e6m[1])\n",
    "\n",
    "for row in range(len(e6m)):\n",
    "    dic10[\"Datos\"+ \" \" + str(row)] = e6m[row]\n",
    "print(\"\\n\")\n",
    "print(dic10)"
   ]
  },
  {
   "cell_type": "code",
   "execution_count": null,
   "metadata": {},
   "outputs": [],
   "source": []
  }
 ],
 "metadata": {
  "kernelspec": {
   "display_name": "Python 3",
   "language": "python",
   "name": "python3"
  },
  "language_info": {
   "codemirror_mode": {
    "name": "ipython",
    "version": 3
   },
   "file_extension": ".py",
   "mimetype": "text/x-python",
   "name": "python",
   "nbconvert_exporter": "python",
   "pygments_lexer": "ipython3",
   "version": "3.8.5"
  }
 },
 "nbformat": 4,
 "nbformat_minor": 4
}
