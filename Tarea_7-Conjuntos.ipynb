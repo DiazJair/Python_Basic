{
 "metadata": {
  "language_info": {
   "codemirror_mode": {
    "name": "ipython",
    "version": 3
   },
   "file_extension": ".py",
   "mimetype": "text/x-python",
   "name": "python",
   "nbconvert_exporter": "python",
   "pygments_lexer": "ipython3",
   "version": "3.8.5"
  },
  "orig_nbformat": 2,
  "kernelspec": {
   "name": "python385jvsc74a57bd03b5a66c4cd92ecee07f1485d34fad62cbd55b4ae9150b9526340b04fbd6ba8a7",
   "display_name": "Python 3.8.5 64-bit ('base': conda)"
  },
  "metadata": {
   "interpreter": {
    "hash": "916dbcbb3f70747c44a77c7bcd40155683ae19c65e1c03b4aa3499c5328201f1"
   }
  }
 },
 "nbformat": 4,
 "nbformat_minor": 2,
 "cells": [
  {
   "cell_type": "code",
   "execution_count": 5,
   "metadata": {},
   "outputs": [
    {
     "output_type": "stream",
     "name": "stdout",
     "text": [
      "{32, 1, 2, 160, 4, 5, 100, 8, 40, 10, 200, 16, 80, 50, 400, 20, 25}\n"
     ]
    }
   ],
   "source": [
    "## Ejercicio 1\n",
    "num = int(input(\"Introduce un entero: \"))\n",
    "set1 = {1}\n",
    "for i in range(1,num):\n",
    "    if num%i == 0:\n",
    "        set1.add(i)\n",
    "    else:\n",
    "        continue\n",
    "print(set1)\n",
    "         "
   ]
  },
  {
   "cell_type": "code",
   "execution_count": 4,
   "metadata": {},
   "outputs": [
    {
     "output_type": "stream",
     "name": "stdout",
     "text": [
      "El valor minimo del conjunto es: -5\n"
     ]
    }
   ],
   "source": [
    "## Ejercicio 2\n",
    "myset = {20, 3, 5, 10, 9, 30, -5, 30}\n",
    "minimo = 800000\n",
    "\n",
    "for i in myset:\n",
    "    if i < minimo:\n",
    "        minimo = i\n",
    "    else:\n",
    "        continue\n",
    "print(\"El valor minimo del conjunto es: {}\".format(minimo))"
   ]
  },
  {
   "cell_type": "code",
   "execution_count": 5,
   "metadata": {},
   "outputs": [
    {
     "output_type": "stream",
     "name": "stdout",
     "text": [
      "{'mama', 'me', 'mi', 'macho', 'mima'}\n"
     ]
    }
   ],
   "source": [
    "## Ejercicio 3\n",
    "frase = input(\"Introduce una frase: \")\n",
    "frase = frase.lower()\n",
    "letra = input(\"Introduce la letra.\")\n",
    "letra = letra.lower()\n",
    "palabras = frase.split(\" \")\n",
    "\n",
    "select = set()\n",
    "\n",
    "for i in palabras:\n",
    "    if i.startswith(letra):\n",
    "        select.add(i)\n",
    "    else:\n",
    "        continue\n",
    "print(select)\n",
    "\n"
   ]
  },
  {
   "cell_type": "code",
   "execution_count": 7,
   "metadata": {},
   "outputs": [
    {
     "output_type": "stream",
     "name": "stdout",
     "text": [
      "El caracter con mayor valor ASCII es : t\n"
     ]
    }
   ],
   "source": [
    "## Ejercicio 4\n",
    "myset = {2, 3, 5, 1, 9, 0, \"t\", 3, \"j\", \"+\", \"&\"}\n",
    "max = -99999\n",
    "\n",
    "for i in myset:\n",
    "    if ord(str(i)) > max:\n",
    "        max = ord(str(i))\n",
    "\n",
    "print(\"El caracter con mayor valor ASCII es : {}\".format(chr(max)))\n"
   ]
  },
  {
   "cell_type": "code",
   "execution_count": 9,
   "metadata": {},
   "outputs": [
    {
     "output_type": "stream",
     "name": "stdout",
     "text": [
      "El caracter con menor valor ASCII es : &\n"
     ]
    }
   ],
   "source": [
    "## Ejercicio 5\n",
    "myset = {2, 3, 5, 1, 9, 0, \"t\", 3, \"j\", \"+\", \"&\"}\n",
    "min = 99999\n",
    "\n",
    "for i in myset:\n",
    "    if ord(str(i)) < min:\n",
    "        min = ord(str(i))\n",
    "\n",
    "print(\"El caracter con menor valor ASCII es : {}\".format(chr(min)))"
   ]
  },
  {
   "cell_type": "code",
   "execution_count": 11,
   "metadata": {},
   "outputs": [
    {
     "output_type": "stream",
     "name": "stdout",
     "text": [
      "{'esa', 'mama', 'mima'}\n"
     ]
    }
   ],
   "source": [
    "## Ejercicio 6\n",
    "frase6 = input(\"Introduce una frase: \")\n",
    "frase6 = frase6.lower()\n",
    "letra6 = input(\"Introduce la letra.\")\n",
    "letra6 = letra6.lower()\n",
    "palabras6 = frase6.split(\" \")\n",
    "\n",
    "select6 = set()\n",
    "\n",
    "for i in palabras6:\n",
    "    if letra6 in i:\n",
    "        select6.add(i)\n",
    "\n",
    "print(select6)"
   ]
  },
  {
   "cell_type": "code",
   "execution_count": 13,
   "metadata": {},
   "outputs": [
    {
     "output_type": "stream",
     "name": "stdout",
     "text": [
      "{'M', 'D', 'E', 'G'}\n"
     ]
    }
   ],
   "source": [
    "## Ejercicio 7\n",
    "frase7 = input(\"Introduce una frase: \")\n",
    "frase7 = frase7.lower()\n",
    "\n",
    "conj = set()\n",
    "\n",
    "frase7 = frase7.title()\n",
    "\n",
    "for c in frase7:\n",
    "    if c.isupper():\n",
    "        conj.add(c)\n",
    "print(conj) "
   ]
  },
  {
   "cell_type": "code",
   "execution_count": 1,
   "metadata": {},
   "outputs": [
    {
     "output_type": "stream",
     "name": "stdout",
     "text": [
      "{'el', 'pasean', 'azules', 'tejado'}\n"
     ]
    }
   ],
   "source": [
    "## Ejercicio 8.\n",
    "fra8 = input(\"Introduce una frase: \")\n",
    "fra8 = fra8.lower()\n",
    "con8 = set()\n",
    "pal8 = fra8.split(\" \")\n",
    "for f in pal8:\n",
    "    if len(f) % 2 == 0:\n",
    "        con8.add(f)\n",
    "    else:\n",
    "        continue\n",
    "print(con8)\n"
   ]
  },
  {
   "cell_type": "code",
   "execution_count": 3,
   "metadata": {},
   "outputs": [
    {
     "output_type": "stream",
     "name": "stdout",
     "text": [
      "Las palabras que terminan con n son {'en', 'cantan', 'vienen'}\n"
     ]
    }
   ],
   "source": [
    "## Ejercicio 9.\n",
    "fra9 = input(\"Introduce una frase: \")\n",
    "fra9 = fra9.lower()\n",
    "let9 = input(\"Introduce una letra: \")\n",
    "con9 = set()\n",
    "pal9 = fra9.split(\" \")\n",
    "\n",
    "for f in pal9:\n",
    "    if f.endswith(let9):\n",
    "        con9.add(f)\n",
    "    else:\n",
    "        continue\n",
    "print(\"Las palabras que terminan con {} son {}\".format(let9,con9))"
   ]
  },
  {
   "cell_type": "code",
   "execution_count": 7,
   "metadata": {},
   "outputs": [
    {
     "output_type": "stream",
     "name": "stdout",
     "text": [
      "{'malayalam', 'ana'}\n"
     ]
    }
   ],
   "source": [
    "## Ejercicio 10\n",
    "\n",
    "fra10 = input(\"Introduce una frase: \")\n",
    "fra10 = fra10.lower()\n",
    "pal10 = fra10.split(\" \")\n",
    "con10 = set()\n",
    "\n",
    "def isPalindrome(s):\n",
    "    return s == s[::-1]\n",
    "\n",
    "for s in pal10:\n",
    "    if isPalindrome(s) == True:\n",
    "        con10.add(s)\n",
    "    else:\n",
    "        continue\n",
    "print(con10)"
   ]
  },
  {
   "cell_type": "code",
   "execution_count": null,
   "metadata": {},
   "outputs": [],
   "source": []
  }
 ]
}