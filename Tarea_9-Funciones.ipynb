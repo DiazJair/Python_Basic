{
 "metadata": {
  "language_info": {
   "codemirror_mode": {
    "name": "ipython",
    "version": 3
   },
   "file_extension": ".py",
   "mimetype": "text/x-python",
   "name": "python",
   "nbconvert_exporter": "python",
   "pygments_lexer": "ipython3",
   "version": "3.8.5"
  },
  "orig_nbformat": 2,
  "kernelspec": {
   "name": "python385jvsc74a57bd03b5a66c4cd92ecee07f1485d34fad62cbd55b4ae9150b9526340b04fbd6ba8a7",
   "display_name": "Python 3.8.5 64-bit ('base': conda)"
  }
 },
 "nbformat": 4,
 "nbformat_minor": 2,
 "cells": [
  {
   "cell_type": "code",
   "execution_count": 1,
   "metadata": {},
   "outputs": [],
   "source": [
    "## Ejercicio 1\n",
    "def ejercicio_1(e1):\n",
    "    divisores = []\n",
    "    for i in range(1,e1):\n",
    "        if e1 % i == 0:\n",
    "            divisores.append(i)\n",
    "    return(divisores)"
   ]
  },
  {
   "cell_type": "code",
   "execution_count": 2,
   "metadata": {},
   "outputs": [
    {
     "output_type": "execute_result",
     "data": {
      "text/plain": [
       "[1, 2, 5, 10, 25]"
      ]
     },
     "metadata": {},
     "execution_count": 2
    }
   ],
   "source": [
    "ejercicio_1(50)"
   ]
  },
  {
   "cell_type": "code",
   "execution_count": 3,
   "metadata": {},
   "outputs": [],
   "source": [
    "## Ejercicio 2\n",
    "def ejer_2(x,y):\n",
    "    if x > y:\n",
    "        print(\"El numero {} es el mayor\".format(x))\n",
    "    elif y > x:\n",
    "        print(\"El numero {} es el mayor\".format(y))\n",
    "    else:\n",
    "        print(\"Los numeros son iguales\")"
   ]
  },
  {
   "cell_type": "code",
   "execution_count": 4,
   "metadata": {},
   "outputs": [
    {
     "output_type": "stream",
     "name": "stdout",
     "text": [
      "El numero 8 es el mayor\n"
     ]
    }
   ],
   "source": [
    "ejer_2(8,-35)"
   ]
  },
  {
   "cell_type": "code",
   "execution_count": 7,
   "metadata": {},
   "outputs": [],
   "source": [
    "def ejer_3(x):\n",
    "    if x >= 0:\n",
    "         print(x)\n",
    "    else:\n",
    "        print(x*(-1))"
   ]
  },
  {
   "cell_type": "code",
   "execution_count": 8,
   "metadata": {},
   "outputs": [
    {
     "output_type": "stream",
     "name": "stdout",
     "text": [
      "8545\n"
     ]
    }
   ],
   "source": [
    "ejer_3(-8545)"
   ]
  },
  {
   "cell_type": "code",
   "execution_count": 11,
   "metadata": {},
   "outputs": [],
   "source": [
    "def ejer_4(a):\n",
    "    a = a.lower()\n",
    "    vowels =[\"a\",\"e\",\"i\",\"o\",\"u\"]    \n",
    "    if a in vowels:\n",
    "        return True\n",
    "    else:\n",
    "        return False\n"
   ]
  },
  {
   "cell_type": "code",
   "execution_count": 13,
   "metadata": {},
   "outputs": [
    {
     "output_type": "execute_result",
     "data": {
      "text/plain": [
       "True"
      ]
     },
     "metadata": {},
     "execution_count": 13
    }
   ],
   "source": [
    "ejer_4(\"E\")"
   ]
  },
  {
   "cell_type": "code",
   "execution_count": 19,
   "metadata": {},
   "outputs": [],
   "source": [
    "def ejer_5(a, b):\n",
    "    divisores_a = []\n",
    "    divisores_b = []\n",
    "    for i in range(1,a):\n",
    "        if a % i == 0:\n",
    "            divisores_a.append(i)\n",
    "    for f in range(1,b):\n",
    "        if b % f == 0:\n",
    "            divisores_b.append(f)\n",
    "    div_a = set(divisores_a)\n",
    "    div_b = set(divisores_b)\n",
    "    mcm = div_a.intersection(div_b)\n",
    "    x = list(mcm)\n",
    "    x.sort()\n",
    "    return x[-1]\n"
   ]
  },
  {
   "cell_type": "code",
   "execution_count": 20,
   "metadata": {},
   "outputs": [
    {
     "output_type": "execute_result",
     "data": {
      "text/plain": [
       "5"
      ]
     },
     "metadata": {},
     "execution_count": 20
    }
   ],
   "source": [
    "ejer_5(10,15)"
   ]
  },
  {
   "cell_type": "code",
   "execution_count": 3,
   "metadata": {},
   "outputs": [],
   "source": [
    "## Ejercicio 6\n",
    "def ejer_6(a, b):\n",
    "    divisores_a = []\n",
    "    divisores_b = []\n",
    "    for i in range(2,a):\n",
    "        if a % i == 0:\n",
    "            divisores_a.append(i)\n",
    "    for f in range(2,b):\n",
    "        if b % f == 0:\n",
    "            divisores_b.append(f)\n",
    "    div_a = set(divisores_a)\n",
    "    div_b = set(divisores_b)\n",
    "    min_cm = div_a.intersection(div_b)\n",
    "    x = list(min_cm)\n",
    "    x.sort()\n",
    "    return x[0]"
   ]
  },
  {
   "cell_type": "code",
   "execution_count": 6,
   "metadata": {},
   "outputs": [
    {
     "output_type": "execute_result",
     "data": {
      "text/plain": [
       "5"
      ]
     },
     "metadata": {},
     "execution_count": 6
    }
   ],
   "source": [
    "ejer_6(1520,165)"
   ]
  },
  {
   "cell_type": "code",
   "execution_count": 7,
   "metadata": {},
   "outputs": [],
   "source": [
    "def ejer_7(x):\n",
    "    if x == x[::-1]:\n",
    "        print(\"Es un palindromo.\")\n",
    "    else:\n",
    "        print(\"No es un palindromo.\") "
   ]
  },
  {
   "cell_type": "code",
   "execution_count": 14,
   "metadata": {},
   "outputs": [
    {
     "output_type": "stream",
     "name": "stdout",
     "text": [
      "Es un palindromo.\n"
     ]
    }
   ],
   "source": [
    "ejer_7(\"selles\")"
   ]
  },
  {
   "cell_type": "code",
   "execution_count": 15,
   "metadata": {},
   "outputs": [
    {
     "output_type": "error",
     "ename": "SyntaxError",
     "evalue": "unexpected EOF while parsing (<ipython-input-15-75d358e20f42>, line 3)",
     "traceback": [
      "\u001b[0;36m  File \u001b[0;32m\"<ipython-input-15-75d358e20f42>\"\u001b[0;36m, line \u001b[0;32m3\u001b[0m\n\u001b[0;31m    \u001b[0m\n\u001b[0m    ^\u001b[0m\n\u001b[0;31mSyntaxError\u001b[0m\u001b[0;31m:\u001b[0m unexpected EOF while parsing\n"
     ]
    }
   ],
   "source": [
    "def ejer_8(x):\n",
    "    if 0 <= x <= 255:\n",
    "        "
   ]
  },
  {
   "cell_type": "code",
   "execution_count": 26,
   "metadata": {},
   "outputs": [],
   "source": [
    "def ejer_9(z):\n",
    "    palabras = []\n",
    "    pares = 0\n",
    "    impares = 0 \n",
    "   \n",
    "    z = z.lower()\n",
    "    z = z.split(\" \")\n",
    "    for p in z:\n",
    "        palabras.append(p)\n",
    "    \n",
    "    for i in palabras:\n",
    "        if len(i) % 2 == 0:\n",
    "            pares +=1\n",
    "        else:\n",
    "            impares += 1\n",
    "    valores = {\"Pares\":pares, \"Impares\":impares}\n",
    "    print(palabras)\n",
    "    return valores\n",
    "\n"
   ]
  },
  {
   "cell_type": "code",
   "execution_count": 27,
   "metadata": {},
   "outputs": [
    {
     "output_type": "stream",
     "name": "stdout",
     "text": [
      "['el', 'perro', 'se', 'comio', 'mi', 'tarea']\n"
     ]
    },
    {
     "output_type": "execute_result",
     "data": {
      "text/plain": [
       "{'Pares': 3, 'Impares': 3}"
      ]
     },
     "metadata": {},
     "execution_count": 27
    }
   ],
   "source": [
    "ejer_9(\"EL perro se comio mi tarea\")"
   ]
  },
  {
   "cell_type": "code",
   "execution_count": 35,
   "metadata": {},
   "outputs": [],
   "source": [
    "def ejer_10(frase):\n",
    "    frase = frase.lower()\n",
    "    caracter = {}\n",
    "    passd = []\n",
    "    for c in frase:\n",
    "        if c not in passd:\n",
    "            caracter[c] = frase.count(c)\n",
    "            passd.append(c)\n",
    "    return caracter\n",
    "\n",
    "    \n"
   ]
  },
  {
   "cell_type": "code",
   "execution_count": 36,
   "metadata": {},
   "outputs": [
    {
     "output_type": "execute_result",
     "data": {
      "text/plain": [
       "{'e': 4,\n",
       " 'l': 1,\n",
       " ' ': 5,\n",
       " 'p': 1,\n",
       " 'r': 3,\n",
       " 'o': 3,\n",
       " 's': 1,\n",
       " 'c': 1,\n",
       " 'm': 2,\n",
       " 'i': 2,\n",
       " 't': 1,\n",
       " 'a': 2}"
      ]
     },
     "metadata": {},
     "execution_count": 36
    }
   ],
   "source": [
    "ejer_10(\"El perro se comio mi tarea\")"
   ]
  },
  {
   "cell_type": "code",
   "execution_count": null,
   "metadata": {},
   "outputs": [],
   "source": []
  }
 ]
}