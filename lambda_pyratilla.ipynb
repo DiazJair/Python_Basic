{
 "cells": [
  {
   "cell_type": "code",
   "execution_count": 5,
   "metadata": {},
   "outputs": [],
   "source": [
    "## Importando\n",
    "from numpy import random\n",
    "from functools import reduce\n",
    "hits = {\"brazaleteD\": 8, \"brazaleteI\": 8, \"cinturon\": 14}\n",
    "total_hits = reduce(lambda x, y: x + y, hits.values())"
   ]
  },
  {
   "cell_type": "code",
   "execution_count": 2,
   "metadata": {},
   "outputs": [],
   "source": [
    "def attack(target):\n",
    "    if type(target) != str:\n",
    "        return\n",
    "    else:\n",
    "        print(\"Pyratilla ha atacado al {}\".format(target))"
   ]
  },
  {
   "cell_type": "code",
   "execution_count": 6,
   "metadata": {},
   "outputs": [
    {
     "name": "stdout",
     "output_type": "stream",
     "text": [
      "¡Oh, no! ¡Pyratilla ha fallado!\n",
      "¡Oh, no! ¡Pyratilla ha fallado!\n",
      "¡Oh, no! ¡Pyratilla ha fallado!\n",
      "Pyratilla ha atacado al brazaleteD\n",
      "¡Oh, no! ¡Pyratilla ha fallado!\n",
      "¡Un segundo! ¡Hay que recargar los 5 cañones!\n",
      "¡Oh, no! ¡Pyratilla ha fallado!\n",
      "Pyratilla ha atacado al brazaleteD\n",
      "¡Oh, no! ¡Pyratilla ha fallado!\n",
      "Pyratilla ha atacado al brazaleteD\n",
      "¡Oh, no! ¡Pyratilla ha fallado!\n",
      "¡Un segundo! ¡Hay que recargar los 5 cañones!\n",
      "Pyratilla ha atacado al brazaleteD\n",
      "¡Oh, no! ¡Pyratilla ha fallado!\n",
      "¡Oh, no! ¡Pyratilla ha fallado!\n",
      "Pyratilla ha atacado al brazaleteD\n",
      "¡Oh, no! ¡Pyratilla ha fallado!\n",
      "¡Un segundo! ¡Hay que recargar los 5 cañones!\n",
      "Pyratilla ha atacado al brazaleteD\n",
      "¡Oh, no! ¡Pyratilla ha fallado!\n",
      "¡Oh, no! ¡Pyratilla ha fallado!\n",
      "¡Oh, no! ¡Pyratilla ha fallado!\n",
      "¡Oh, no! ¡Pyratilla ha fallado!\n",
      "¡Un segundo! ¡Hay que recargar los 5 cañones!\n",
      "Pyratilla ha atacado al brazaleteD\n",
      "El brazaleteD ha sido eliminado\n",
      "Pyratilla ha atacado al brazaleteI\n",
      "¡Oh, no! ¡Pyratilla ha fallado!\n",
      "¡Oh, no! ¡Pyratilla ha fallado!\n",
      "¡Un segundo! ¡Hay que recargar los 5 cañones!\n",
      "¡Oh, no! ¡Pyratilla ha fallado!\n",
      "Pyratilla ha atacado al brazaleteI\n",
      "Pyratilla ha atacado al brazaleteI\n",
      "¡Oh, no! ¡Pyratilla ha fallado!\n",
      "¡Oh, no! ¡Pyratilla ha fallado!\n",
      "¡Un segundo! ¡Hay que recargar los 5 cañones!\n",
      "Pyratilla ha atacado al brazaleteI\n",
      "¡Oh, no! ¡Pyratilla ha fallado!\n",
      "¡Oh, no! ¡Pyratilla ha fallado!\n",
      "¡Oh, no! ¡Pyratilla ha fallado!\n",
      "Pyratilla ha atacado al brazaleteI\n",
      "¡Un segundo! ¡Hay que recargar los 5 cañones!\n",
      "¡Oh, no! ¡Pyratilla ha fallado!\n",
      "Pyratilla ha atacado al brazaleteI\n",
      "¡Oh, no! ¡Pyratilla ha fallado!\n",
      "¡Oh, no! ¡Pyratilla ha fallado!\n",
      "¡Oh, no! ¡Pyratilla ha fallado!\n",
      "¡Un segundo! ¡Hay que recargar los 5 cañones!\n",
      "Pyratilla ha atacado al brazaleteI\n",
      "¡Oh, no! ¡Pyratilla ha fallado!\n",
      "¡Oh, no! ¡Pyratilla ha fallado!\n",
      "El brazaleteI ha sido eliminado\n",
      "¡Oh, no! ¡Pyratilla ha fallado!\n",
      "¡Un segundo! ¡Hay que recargar los 5 cañones!\n",
      "¡Oh, no! ¡Pyratilla ha fallado!\n",
      "Pyratilla ha atacado al cinturon\n",
      "¡Oh, no! ¡Pyratilla ha fallado!\n",
      "Pyratilla ha atacado al cinturon\n",
      "Pyratilla ha atacado al cinturon\n",
      "¡Un segundo! ¡Hay que recargar los 5 cañones!\n",
      "¡Oh, no! ¡Pyratilla ha fallado!\n",
      "¡Oh, no! ¡Pyratilla ha fallado!\n",
      "Pyratilla ha atacado al cinturon\n",
      "¡Oh, no! ¡Pyratilla ha fallado!\n",
      "Pyratilla ha atacado al cinturon\n",
      "¡Un segundo! ¡Hay que recargar los 5 cañones!\n",
      "Pyratilla ha atacado al cinturon\n",
      "¡Oh, no! ¡Pyratilla ha fallado!\n",
      "Pyratilla ha atacado al cinturon\n",
      "¡Oh, no! ¡Pyratilla ha fallado!\n",
      "¡Oh, no! ¡Pyratilla ha fallado!\n",
      "¡Un segundo! ¡Hay que recargar los 5 cañones!\n",
      "¡Oh, no! ¡Pyratilla ha fallado!\n",
      "¡Oh, no! ¡Pyratilla ha fallado!\n",
      "¡Oh, no! ¡Pyratilla ha fallado!\n",
      "¡Oh, no! ¡Pyratilla ha fallado!\n",
      "Pyratilla ha atacado al cinturon\n",
      "¡Un segundo! ¡Hay que recargar los 5 cañones!\n",
      "Pyratilla ha atacado al cinturon\n",
      "Pyratilla ha atacado al cinturon\n",
      "¡Oh, no! ¡Pyratilla ha fallado!\n",
      "Pyratilla ha atacado al cinturon\n",
      "Pyratilla ha atacado al cinturon\n",
      "¡Un segundo! ¡Hay que recargar los 5 cañones!\n",
      "Pyratilla ha atacado al cinturon\n",
      "El cinturon ha sido eliminado\n",
      "¡¡¡El Valrock ha sido eliminado!!! con un total de 72 cañonazos\n"
     ]
    }
   ],
   "source": [
    "targets = list(hits.keys())\n",
    "hits_targets = list(hits.values())\n",
    "total_cannons = 0\n",
    "\n",
    "for i in range(len(targets)):\n",
    "    hits = hits_targets[i]\n",
    "    while hits > 0:\n",
    "        total_cannons += 1\n",
    "        if random.randint(2) == 0:\n",
    "            print(\"¡Oh, no! ¡Pyratilla ha fallado!\")\n",
    "        else:\n",
    "            hits -= 1\n",
    "            if hits == 0:\n",
    "                continue\n",
    "            attack(target = targets[i])\n",
    "        if total_cannons % 5 == 0:\n",
    "            print('¡Un segundo! ¡Hay que recargar los 5 cañones!')\n",
    "    print(\"El {} ha sido eliminado\".format(targets[i]))\n",
    "print(\"¡¡¡El Valrock ha sido eliminado!!! con un total de {} cañonazos\".format(total_cannons))"
   ]
  },
  {
   "cell_type": "code",
   "execution_count": 9,
   "metadata": {},
   "outputs": [],
   "source": [
    "def valid_option(x,y):\n",
    "    if x[-1] == y[0]:\n",
    "        return True\n",
    "    else:\n",
    "        return False\n",
    "\n",
    "def palabras_encadenadas(w1, w2):\n",
    "    played_words = []\n",
    "    played_words.append(w1)\n",
    "    played_words.append(w2)\n",
    "    print(\"La primer palabra es: {} y la segunda {}\".format(w1,w2))\n",
    "    wn = input(\"Introduce otra palabra: \")\n",
    "    if wn[0] == w2[-1]:\n",
    "        while valid_option(played_words[-2],played_words[-1]) == True and wn not in played_words:\n",
    "            played_words.append(wn)\n",
    "            wn = input(\"Introduce otra palabra: \")\n",
    "        return played_words\n",
    "\n"
   ]
  },
  {
   "cell_type": "code",
   "execution_count": 10,
   "metadata": {},
   "outputs": [
    {
     "name": "stdout",
     "output_type": "stream",
     "text": [
      "La primer palabra es: imagine y la segunda esfuerzo\n"
     ]
    },
    {
     "data": {
      "text/plain": [
       "(['esfuerzo', 'ornitorrinco', 'osteoporosis', 'estabilizador'],\n",
       " ['imagine',\n",
       "  'esfuerzo',\n",
       "  'oso',\n",
       "  'ornitorrinco',\n",
       "  'osteoporosis',\n",
       "  'sensor',\n",
       "  'rapido',\n",
       "  'omar',\n",
       "  'random',\n",
       "  'madre',\n",
       "  'estabilizador'])"
      ]
     },
     "execution_count": 10,
     "metadata": {},
     "output_type": "execute_result"
    }
   ],
   "source": [
    "game = palabras_encadenadas(\"w1\",\"w2\")\n",
    "list(filter(lambda x:(len(x)>7),game))"
   ]
  }
 ],
 "metadata": {
  "interpreter": {
   "hash": "31f2aee4e71d21fbe5cf8b01ff0e069b9275f58929596ceb00d14d90e3e16cd6"
  },
  "kernelspec": {
   "display_name": "Python 3.8.10 64-bit",
   "language": "python",
   "name": "python3"
  },
  "language_info": {
   "codemirror_mode": {
    "name": "ipython",
    "version": 3
   },
   "file_extension": ".py",
   "mimetype": "text/x-python",
   "name": "python",
   "nbconvert_exporter": "python",
   "pygments_lexer": "ipython3",
   "version": "3.8.8"
  },
  "orig_nbformat": 4
 },
 "nbformat": 4,
 "nbformat_minor": 2
}
